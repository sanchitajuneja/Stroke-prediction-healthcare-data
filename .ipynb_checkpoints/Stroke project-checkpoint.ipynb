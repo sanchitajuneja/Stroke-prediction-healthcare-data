{
 "cells": [
  {
   "cell_type": "markdown",
   "id": "4b03d2b1",
   "metadata": {},
   "source": [
    "## Stroke Healthcare Dataset <a id=\"0\"></a>\n",
    "\n",
    "In this project, stroke disease dataset was loaded and some basic steps were performed for getting familiar with the dataset. We further inspected and vsiualised the dataset in detail to achieve a better understanding of it. This step also involved data-preprocessing to prepare the data for model building. Finally, we built predictive models and applied grid search validation to tune hyper-parameters in each model.\n",
    "\n",
    "* [Introduction](#1)\n",
    "* [Data loading](#2)\n",
    "* [Exploratory data analysis](#3)\n",
    "* [Data visualisation](#4)\n",
    "* [Model building](#5)\n",
    "    - Logistic Regression\n",
    "    - Decision Tree\n",
    "    - Random Forest\n",
    "    - XGBoost\n",
    "* [Conclusion](#6)\n",
    "\n",
    "> Stroke dataset is provided by Kaggle: https://www.kaggle.com/datasets/fedesoriano/stroke-prediction-dataset"
   ]
  },
  {
   "cell_type": "code",
   "execution_count": 1,
   "id": "2d3b3852",
   "metadata": {},
   "outputs": [],
   "source": [
    "#  Loading some of the libraries that will be use in this project\n",
    "\n",
    "import pandas as pd\n",
    "import numpy as np\n",
    "\n",
    "import matplotlib.pyplot as plt\n",
    "%matplotlib inline\n",
    "import seaborn as sns\n",
    "from matplotlib import pyplot\n",
    "\n",
    "import warnings\n",
    "warnings.filterwarnings('ignore') \n",
    "import copy\n",
    "\n",
    "from sklearn.preprocessing import LabelEncoder\n",
    "from sklearn.preprocessing import StandardScaler\n",
    "from sklearn.model_selection import train_test_split\n",
    "from sklearn.model_selection import GridSearchCV\n",
    "from sklearn.metrics import roc_curve, roc_auc_score\n",
    "from sklearn import metrics\n",
    "from sklearn.metrics import precision_score, recall_score, f1_score, accuracy_score,confusion_matrix\n",
    "from sklearn.model_selection import cross_val_score\n",
    "from sklearn.metrics import auc\n",
    "from sklearn.metrics import precision_recall_curve\n",
    "from imblearn.over_sampling import RandomOverSampler\n",
    "from sklearn.linear_model import LogisticRegression\n",
    "from sklearn.tree import DecisionTreeClassifier\n",
    "from sklearn.ensemble import RandomForestClassifier\n",
    "from xgboost.sklearn import XGBClassifier  \n",
    "import xgboost as xgb"
   ]
  },
  {
   "cell_type": "markdown",
   "id": "8389ba7c",
   "metadata": {},
   "source": [
    "## Introduction <a id=\"1\"></a>\n",
    "<mark>[Return Contents](#0)\n",
    "<hr>"
   ]
  },
  {
   "cell_type": "markdown",
   "id": "3e59b563",
   "metadata": {},
   "source": [
    "According to the World Health Organization (WHO) stroke is the 2nd leading cause of death globally, responsible for approximately 11% of total deaths.\n",
    "\n",
    "This dataset is used to predict whether a patient is likely to get stroke based on the input parameters like gender, age, various diseases, and smoking status. Each row in the data provides relavant information about the patient.\n",
    "\n",
    "Attribute Information\n",
    "\n",
    "1. id: unique identifier\n",
    "2. gender: \"Male\", \"Female\" or \"Other\"\n",
    "3. age: age of the patient\n",
    "4. hypertension: 0 if the patient doesn't have hypertension, 1 if the patient has hypertension\n",
    "5. heart_disease: 0 if the patient doesn't have any heart diseases, 1 if the patient has a heart disease\n",
    "6. ever_married: \"No\" or \"Yes\"\n",
    "7. work_type: \"children\", \"Govt_jov\", \"Never_worked\", \"Private\" or \"Self-employed\"\n",
    "8. Residence_type: \"Rural\" or \"Urban\"\n",
    "9. avg_glucose_level: average glucose level in blood\n",
    "10. bmi: body mass index\n",
    "11. smoking_status: \"formerly smoked\", \"never smoked\", \"smokes\" or \"Unknown\"*\n",
    "12. stroke: 1 if the patient had a stroke or 0 if not\n",
    "\n",
    "*Note: \"Unknown\" in smoking_status means that the information is unavailable for this patient\n"
   ]
  },
  {
   "cell_type": "markdown",
   "id": "faf0cdf4",
   "metadata": {},
   "source": [
    "## Data loading <a id=\"2\"></a>\n",
    "<mark>[Return Contents](#0)\n",
    "<hr>"
   ]
  },
  {
   "cell_type": "markdown",
   "id": "d7908375",
   "metadata": {},
   "source": [
    "<b> Loading CSV file for dataset <b>"
   ]
  },
  {
   "cell_type": "code",
   "execution_count": 2,
   "id": "9502cb48",
   "metadata": {},
   "outputs": [
    {
     "data": {
      "text/html": [
       "<div>\n",
       "<style scoped>\n",
       "    .dataframe tbody tr th:only-of-type {\n",
       "        vertical-align: middle;\n",
       "    }\n",
       "\n",
       "    .dataframe tbody tr th {\n",
       "        vertical-align: top;\n",
       "    }\n",
       "\n",
       "    .dataframe thead th {\n",
       "        text-align: right;\n",
       "    }\n",
       "</style>\n",
       "<table border=\"1\" class=\"dataframe\">\n",
       "  <thead>\n",
       "    <tr style=\"text-align: right;\">\n",
       "      <th></th>\n",
       "      <th>id</th>\n",
       "      <th>gender</th>\n",
       "      <th>age</th>\n",
       "      <th>hypertension</th>\n",
       "      <th>heart_disease</th>\n",
       "      <th>ever_married</th>\n",
       "      <th>work_type</th>\n",
       "      <th>Residence_type</th>\n",
       "      <th>avg_glucose_level</th>\n",
       "      <th>bmi</th>\n",
       "      <th>smoking_status</th>\n",
       "      <th>stroke</th>\n",
       "    </tr>\n",
       "  </thead>\n",
       "  <tbody>\n",
       "    <tr>\n",
       "      <th>0</th>\n",
       "      <td>9046</td>\n",
       "      <td>Male</td>\n",
       "      <td>67.0</td>\n",
       "      <td>0</td>\n",
       "      <td>1</td>\n",
       "      <td>Yes</td>\n",
       "      <td>Private</td>\n",
       "      <td>Urban</td>\n",
       "      <td>228.69</td>\n",
       "      <td>36.6</td>\n",
       "      <td>formerly smoked</td>\n",
       "      <td>1</td>\n",
       "    </tr>\n",
       "    <tr>\n",
       "      <th>1</th>\n",
       "      <td>51676</td>\n",
       "      <td>Female</td>\n",
       "      <td>61.0</td>\n",
       "      <td>0</td>\n",
       "      <td>0</td>\n",
       "      <td>Yes</td>\n",
       "      <td>Self-employed</td>\n",
       "      <td>Rural</td>\n",
       "      <td>202.21</td>\n",
       "      <td>NaN</td>\n",
       "      <td>never smoked</td>\n",
       "      <td>1</td>\n",
       "    </tr>\n",
       "    <tr>\n",
       "      <th>2</th>\n",
       "      <td>31112</td>\n",
       "      <td>Male</td>\n",
       "      <td>80.0</td>\n",
       "      <td>0</td>\n",
       "      <td>1</td>\n",
       "      <td>Yes</td>\n",
       "      <td>Private</td>\n",
       "      <td>Rural</td>\n",
       "      <td>105.92</td>\n",
       "      <td>32.5</td>\n",
       "      <td>never smoked</td>\n",
       "      <td>1</td>\n",
       "    </tr>\n",
       "    <tr>\n",
       "      <th>3</th>\n",
       "      <td>60182</td>\n",
       "      <td>Female</td>\n",
       "      <td>49.0</td>\n",
       "      <td>0</td>\n",
       "      <td>0</td>\n",
       "      <td>Yes</td>\n",
       "      <td>Private</td>\n",
       "      <td>Urban</td>\n",
       "      <td>171.23</td>\n",
       "      <td>34.4</td>\n",
       "      <td>smokes</td>\n",
       "      <td>1</td>\n",
       "    </tr>\n",
       "    <tr>\n",
       "      <th>4</th>\n",
       "      <td>1665</td>\n",
       "      <td>Female</td>\n",
       "      <td>79.0</td>\n",
       "      <td>1</td>\n",
       "      <td>0</td>\n",
       "      <td>Yes</td>\n",
       "      <td>Self-employed</td>\n",
       "      <td>Rural</td>\n",
       "      <td>174.12</td>\n",
       "      <td>24.0</td>\n",
       "      <td>never smoked</td>\n",
       "      <td>1</td>\n",
       "    </tr>\n",
       "    <tr>\n",
       "      <th>...</th>\n",
       "      <td>...</td>\n",
       "      <td>...</td>\n",
       "      <td>...</td>\n",
       "      <td>...</td>\n",
       "      <td>...</td>\n",
       "      <td>...</td>\n",
       "      <td>...</td>\n",
       "      <td>...</td>\n",
       "      <td>...</td>\n",
       "      <td>...</td>\n",
       "      <td>...</td>\n",
       "      <td>...</td>\n",
       "    </tr>\n",
       "    <tr>\n",
       "      <th>5105</th>\n",
       "      <td>18234</td>\n",
       "      <td>Female</td>\n",
       "      <td>80.0</td>\n",
       "      <td>1</td>\n",
       "      <td>0</td>\n",
       "      <td>Yes</td>\n",
       "      <td>Private</td>\n",
       "      <td>Urban</td>\n",
       "      <td>83.75</td>\n",
       "      <td>NaN</td>\n",
       "      <td>never smoked</td>\n",
       "      <td>0</td>\n",
       "    </tr>\n",
       "    <tr>\n",
       "      <th>5106</th>\n",
       "      <td>44873</td>\n",
       "      <td>Female</td>\n",
       "      <td>81.0</td>\n",
       "      <td>0</td>\n",
       "      <td>0</td>\n",
       "      <td>Yes</td>\n",
       "      <td>Self-employed</td>\n",
       "      <td>Urban</td>\n",
       "      <td>125.20</td>\n",
       "      <td>40.0</td>\n",
       "      <td>never smoked</td>\n",
       "      <td>0</td>\n",
       "    </tr>\n",
       "    <tr>\n",
       "      <th>5107</th>\n",
       "      <td>19723</td>\n",
       "      <td>Female</td>\n",
       "      <td>35.0</td>\n",
       "      <td>0</td>\n",
       "      <td>0</td>\n",
       "      <td>Yes</td>\n",
       "      <td>Self-employed</td>\n",
       "      <td>Rural</td>\n",
       "      <td>82.99</td>\n",
       "      <td>30.6</td>\n",
       "      <td>never smoked</td>\n",
       "      <td>0</td>\n",
       "    </tr>\n",
       "    <tr>\n",
       "      <th>5108</th>\n",
       "      <td>37544</td>\n",
       "      <td>Male</td>\n",
       "      <td>51.0</td>\n",
       "      <td>0</td>\n",
       "      <td>0</td>\n",
       "      <td>Yes</td>\n",
       "      <td>Private</td>\n",
       "      <td>Rural</td>\n",
       "      <td>166.29</td>\n",
       "      <td>25.6</td>\n",
       "      <td>formerly smoked</td>\n",
       "      <td>0</td>\n",
       "    </tr>\n",
       "    <tr>\n",
       "      <th>5109</th>\n",
       "      <td>44679</td>\n",
       "      <td>Female</td>\n",
       "      <td>44.0</td>\n",
       "      <td>0</td>\n",
       "      <td>0</td>\n",
       "      <td>Yes</td>\n",
       "      <td>Govt_job</td>\n",
       "      <td>Urban</td>\n",
       "      <td>85.28</td>\n",
       "      <td>26.2</td>\n",
       "      <td>Unknown</td>\n",
       "      <td>0</td>\n",
       "    </tr>\n",
       "  </tbody>\n",
       "</table>\n",
       "<p>5110 rows × 12 columns</p>\n",
       "</div>"
      ],
      "text/plain": [
       "         id  gender   age  hypertension  heart_disease ever_married  \\\n",
       "0      9046    Male  67.0             0              1          Yes   \n",
       "1     51676  Female  61.0             0              0          Yes   \n",
       "2     31112    Male  80.0             0              1          Yes   \n",
       "3     60182  Female  49.0             0              0          Yes   \n",
       "4      1665  Female  79.0             1              0          Yes   \n",
       "...     ...     ...   ...           ...            ...          ...   \n",
       "5105  18234  Female  80.0             1              0          Yes   \n",
       "5106  44873  Female  81.0             0              0          Yes   \n",
       "5107  19723  Female  35.0             0              0          Yes   \n",
       "5108  37544    Male  51.0             0              0          Yes   \n",
       "5109  44679  Female  44.0             0              0          Yes   \n",
       "\n",
       "          work_type Residence_type  avg_glucose_level   bmi   smoking_status  \\\n",
       "0           Private          Urban             228.69  36.6  formerly smoked   \n",
       "1     Self-employed          Rural             202.21   NaN     never smoked   \n",
       "2           Private          Rural             105.92  32.5     never smoked   \n",
       "3           Private          Urban             171.23  34.4           smokes   \n",
       "4     Self-employed          Rural             174.12  24.0     never smoked   \n",
       "...             ...            ...                ...   ...              ...   \n",
       "5105        Private          Urban              83.75   NaN     never smoked   \n",
       "5106  Self-employed          Urban             125.20  40.0     never smoked   \n",
       "5107  Self-employed          Rural              82.99  30.6     never smoked   \n",
       "5108        Private          Rural             166.29  25.6  formerly smoked   \n",
       "5109       Govt_job          Urban              85.28  26.2          Unknown   \n",
       "\n",
       "      stroke  \n",
       "0          1  \n",
       "1          1  \n",
       "2          1  \n",
       "3          1  \n",
       "4          1  \n",
       "...      ...  \n",
       "5105       0  \n",
       "5106       0  \n",
       "5107       0  \n",
       "5108       0  \n",
       "5109       0  \n",
       "\n",
       "[5110 rows x 12 columns]"
      ]
     },
     "execution_count": 2,
     "metadata": {},
     "output_type": "execute_result"
    }
   ],
   "source": [
    "data = pd.read_csv('healthcare-dataset-stroke-data.csv') \n",
    "data"
   ]
  },
  {
   "cell_type": "code",
   "execution_count": 3,
   "id": "996f42e1",
   "metadata": {},
   "outputs": [],
   "source": [
    "data.drop(['id'], axis =1, inplace = True)"
   ]
  },
  {
   "cell_type": "markdown",
   "id": "9f34827f",
   "metadata": {},
   "source": [
    "<b> Note: <b>\n",
    "    \n",
    "* There are 5110 rows (instances) and 12 columns (features) in the given dataset\n",
    "    \n",
    "* Column \"id\" should be dropped as it could lead to overfitting because classifer might use that column to fit perfectly on the training set, ignoring all the other columns\n"
   ]
  },
  {
   "cell_type": "markdown",
   "id": "69aaa994",
   "metadata": {},
   "source": [
    "## Exploratory data analysis <a id=\"3\"></a>\n",
    "<mark>[Return Contents](#0)\n",
    "<hr>"
   ]
  },
  {
   "cell_type": "code",
   "execution_count": 4,
   "id": "2dfe9173",
   "metadata": {},
   "outputs": [
    {
     "name": "stdout",
     "output_type": "stream",
     "text": [
      "<class 'pandas.core.frame.DataFrame'>\n",
      "RangeIndex: 5110 entries, 0 to 5109\n",
      "Data columns (total 11 columns):\n",
      " #   Column             Non-Null Count  Dtype  \n",
      "---  ------             --------------  -----  \n",
      " 0   gender             5110 non-null   object \n",
      " 1   age                5110 non-null   float64\n",
      " 2   hypertension       5110 non-null   int64  \n",
      " 3   heart_disease      5110 non-null   int64  \n",
      " 4   ever_married       5110 non-null   object \n",
      " 5   work_type          5110 non-null   object \n",
      " 6   Residence_type     5110 non-null   object \n",
      " 7   avg_glucose_level  5110 non-null   float64\n",
      " 8   bmi                4909 non-null   float64\n",
      " 9   smoking_status     5110 non-null   object \n",
      " 10  stroke             5110 non-null   int64  \n",
      "dtypes: float64(3), int64(3), object(5)\n",
      "memory usage: 439.3+ KB\n"
     ]
    }
   ],
   "source": [
    "# Datatypes of columns\n",
    "\n",
    "data.info()"
   ]
  },
  {
   "cell_type": "code",
   "execution_count": 5,
   "id": "a37700f0",
   "metadata": {},
   "outputs": [
    {
     "data": {
      "text/html": [
       "<div>\n",
       "<style scoped>\n",
       "    .dataframe tbody tr th:only-of-type {\n",
       "        vertical-align: middle;\n",
       "    }\n",
       "\n",
       "    .dataframe tbody tr th {\n",
       "        vertical-align: top;\n",
       "    }\n",
       "\n",
       "    .dataframe thead th {\n",
       "        text-align: right;\n",
       "    }\n",
       "</style>\n",
       "<table border=\"1\" class=\"dataframe\">\n",
       "  <thead>\n",
       "    <tr style=\"text-align: right;\">\n",
       "      <th></th>\n",
       "      <th>age</th>\n",
       "      <th>hypertension</th>\n",
       "      <th>heart_disease</th>\n",
       "      <th>avg_glucose_level</th>\n",
       "      <th>bmi</th>\n",
       "      <th>stroke</th>\n",
       "    </tr>\n",
       "  </thead>\n",
       "  <tbody>\n",
       "    <tr>\n",
       "      <th>count</th>\n",
       "      <td>5110.000000</td>\n",
       "      <td>5110.000000</td>\n",
       "      <td>5110.000000</td>\n",
       "      <td>5110.000000</td>\n",
       "      <td>4909.000000</td>\n",
       "      <td>5110.000000</td>\n",
       "    </tr>\n",
       "    <tr>\n",
       "      <th>mean</th>\n",
       "      <td>43.226614</td>\n",
       "      <td>0.097456</td>\n",
       "      <td>0.054012</td>\n",
       "      <td>106.147677</td>\n",
       "      <td>28.893237</td>\n",
       "      <td>0.048728</td>\n",
       "    </tr>\n",
       "    <tr>\n",
       "      <th>std</th>\n",
       "      <td>22.612647</td>\n",
       "      <td>0.296607</td>\n",
       "      <td>0.226063</td>\n",
       "      <td>45.283560</td>\n",
       "      <td>7.854067</td>\n",
       "      <td>0.215320</td>\n",
       "    </tr>\n",
       "    <tr>\n",
       "      <th>min</th>\n",
       "      <td>0.080000</td>\n",
       "      <td>0.000000</td>\n",
       "      <td>0.000000</td>\n",
       "      <td>55.120000</td>\n",
       "      <td>10.300000</td>\n",
       "      <td>0.000000</td>\n",
       "    </tr>\n",
       "    <tr>\n",
       "      <th>25%</th>\n",
       "      <td>25.000000</td>\n",
       "      <td>0.000000</td>\n",
       "      <td>0.000000</td>\n",
       "      <td>77.245000</td>\n",
       "      <td>23.500000</td>\n",
       "      <td>0.000000</td>\n",
       "    </tr>\n",
       "    <tr>\n",
       "      <th>50%</th>\n",
       "      <td>45.000000</td>\n",
       "      <td>0.000000</td>\n",
       "      <td>0.000000</td>\n",
       "      <td>91.885000</td>\n",
       "      <td>28.100000</td>\n",
       "      <td>0.000000</td>\n",
       "    </tr>\n",
       "    <tr>\n",
       "      <th>75%</th>\n",
       "      <td>61.000000</td>\n",
       "      <td>0.000000</td>\n",
       "      <td>0.000000</td>\n",
       "      <td>114.090000</td>\n",
       "      <td>33.100000</td>\n",
       "      <td>0.000000</td>\n",
       "    </tr>\n",
       "    <tr>\n",
       "      <th>max</th>\n",
       "      <td>82.000000</td>\n",
       "      <td>1.000000</td>\n",
       "      <td>1.000000</td>\n",
       "      <td>271.740000</td>\n",
       "      <td>97.600000</td>\n",
       "      <td>1.000000</td>\n",
       "    </tr>\n",
       "  </tbody>\n",
       "</table>\n",
       "</div>"
      ],
      "text/plain": [
       "               age  hypertension  heart_disease  avg_glucose_level  \\\n",
       "count  5110.000000   5110.000000    5110.000000        5110.000000   \n",
       "mean     43.226614      0.097456       0.054012         106.147677   \n",
       "std      22.612647      0.296607       0.226063          45.283560   \n",
       "min       0.080000      0.000000       0.000000          55.120000   \n",
       "25%      25.000000      0.000000       0.000000          77.245000   \n",
       "50%      45.000000      0.000000       0.000000          91.885000   \n",
       "75%      61.000000      0.000000       0.000000         114.090000   \n",
       "max      82.000000      1.000000       1.000000         271.740000   \n",
       "\n",
       "               bmi       stroke  \n",
       "count  4909.000000  5110.000000  \n",
       "mean     28.893237     0.048728  \n",
       "std       7.854067     0.215320  \n",
       "min      10.300000     0.000000  \n",
       "25%      23.500000     0.000000  \n",
       "50%      28.100000     0.000000  \n",
       "75%      33.100000     0.000000  \n",
       "max      97.600000     1.000000  "
      ]
     },
     "execution_count": 5,
     "metadata": {},
     "output_type": "execute_result"
    }
   ],
   "source": [
    "# Descriptive statsitics of continuous features\n",
    "\n",
    "data.describe()"
   ]
  },
  {
   "cell_type": "markdown",
   "id": "e5310d41",
   "metadata": {},
   "source": [
    "<b> Note: <b>\n",
    "    \n",
    "* Individuals are aged between less than a month old to 82 years\n",
    "    \n",
    "* BMI of indviduals ranges between 10.3 to 97.6 kg/m2"
   ]
  },
  {
   "cell_type": "code",
   "execution_count": 6,
   "id": "152e29d5",
   "metadata": {},
   "outputs": [
    {
     "name": "stdout",
     "output_type": "stream",
     "text": [
      "Total number of individuals :  5110\n",
      "Number of individuals with stroke : 249\n",
      "Number of individuals without stroke :  4861\n"
     ]
    }
   ],
   "source": [
    "# Calculating number of diseased and non diseased individuals \n",
    "\n",
    "total = len(data)\n",
    "diseased = len(data[data.stroke==1])\n",
    "non_diseased = len(data[data.stroke==0])\n",
    "\n",
    "print (\"Total number of individuals : \", total)\n",
    "print (\"Number of individuals with stroke :\", diseased)\n",
    "print (\"Number of individuals without stroke : \", non_diseased)"
   ]
  },
  {
   "cell_type": "code",
   "execution_count": 7,
   "id": "c89abab7",
   "metadata": {},
   "outputs": [
    {
     "name": "stdout",
     "output_type": "stream",
     "text": [
      "['Male' 'Female' 'Other']\n",
      "Other individuals :  1\n",
      "Number of males :  2115\n",
      "Number of females :  2994\n"
     ]
    }
   ],
   "source": [
    "# Calculating number of individuals in each gender type \n",
    "\n",
    "print(data.gender.unique())\n",
    "\n",
    "print(\"Other individuals : \", (data['gender']=='Other').sum())\n",
    "print(\"Number of males : \", (data['gender']=='Male').sum())\n",
    "print(\"Number of females : \", (data['gender']=='Female').sum())"
   ]
  },
  {
   "cell_type": "code",
   "execution_count": 8,
   "id": "d2bf3276",
   "metadata": {},
   "outputs": [],
   "source": [
    "# Dropping individual with gender type \"Other\"\n",
    "\n",
    "data.drop(data.index[data['gender'] == 'Other'], inplace = True)"
   ]
  },
  {
   "cell_type": "code",
   "execution_count": 9,
   "id": "659ce823",
   "metadata": {},
   "outputs": [
    {
     "name": "stdout",
     "output_type": "stream",
     "text": [
      "['formerly smoked' 'never smoked' 'smokes' 'Unknown']\n",
      "Unknown status :  1544\n",
      "Formerly smoked :  884\n",
      "Never smoked :  1892\n",
      "Smokes :  789\n"
     ]
    }
   ],
   "source": [
    "# Calculating number of individuals by smoking status \n",
    "\n",
    "print(data.smoking_status.unique())\n",
    "\n",
    "print(\"Unknown status : \", data.smoking_status.value_counts()['Unknown'])\n",
    "print(\"Formerly smoked : \",data.smoking_status.value_counts()['formerly smoked'])\n",
    "print(\"Never smoked : \", data.smoking_status.value_counts()['never smoked'])\n",
    "print(\"Smokes : \", data.smoking_status.value_counts()['smokes'])"
   ]
  },
  {
   "cell_type": "markdown",
   "id": "06572b38",
   "metadata": {},
   "source": [
    "<b> Note: <b>\n",
    "\n",
    "* There are a total of 5110 indiviuals out of which only 249 have stroke. This suggests that dataset is highly imbalanced\n",
    "    \n",
    "* There are more females than males in the dataset\n",
    "    \n",
    "* There is only 1 individual with gender category as \"Other\". Hence we can remove it and conduct analyses only on males and females\n",
    "    \n",
    "* There are more individuals in never smoked category as compared to those in formerly smoked and currently smokes catgeory "
   ]
  },
  {
   "cell_type": "code",
   "execution_count": 10,
   "id": "f74f221a",
   "metadata": {},
   "outputs": [
    {
     "data": {
      "text/html": [
       "<div>\n",
       "<style scoped>\n",
       "    .dataframe tbody tr th:only-of-type {\n",
       "        vertical-align: middle;\n",
       "    }\n",
       "\n",
       "    .dataframe tbody tr th {\n",
       "        vertical-align: top;\n",
       "    }\n",
       "\n",
       "    .dataframe thead th {\n",
       "        text-align: right;\n",
       "    }\n",
       "</style>\n",
       "<table border=\"1\" class=\"dataframe\">\n",
       "  <thead>\n",
       "    <tr style=\"text-align: right;\">\n",
       "      <th></th>\n",
       "      <th>gender</th>\n",
       "      <th>age</th>\n",
       "      <th>hypertension</th>\n",
       "      <th>heart_disease</th>\n",
       "      <th>ever_married</th>\n",
       "      <th>work_type</th>\n",
       "      <th>Residence_type</th>\n",
       "      <th>avg_glucose_level</th>\n",
       "      <th>bmi</th>\n",
       "      <th>smoking_status</th>\n",
       "      <th>stroke</th>\n",
       "    </tr>\n",
       "  </thead>\n",
       "  <tbody>\n",
       "    <tr>\n",
       "      <th>0</th>\n",
       "      <td>1</td>\n",
       "      <td>67.0</td>\n",
       "      <td>0</td>\n",
       "      <td>1</td>\n",
       "      <td>1</td>\n",
       "      <td>2</td>\n",
       "      <td>1</td>\n",
       "      <td>228.69</td>\n",
       "      <td>36.6</td>\n",
       "      <td>1</td>\n",
       "      <td>1</td>\n",
       "    </tr>\n",
       "    <tr>\n",
       "      <th>1</th>\n",
       "      <td>0</td>\n",
       "      <td>61.0</td>\n",
       "      <td>0</td>\n",
       "      <td>0</td>\n",
       "      <td>1</td>\n",
       "      <td>3</td>\n",
       "      <td>0</td>\n",
       "      <td>202.21</td>\n",
       "      <td>NaN</td>\n",
       "      <td>2</td>\n",
       "      <td>1</td>\n",
       "    </tr>\n",
       "    <tr>\n",
       "      <th>2</th>\n",
       "      <td>1</td>\n",
       "      <td>80.0</td>\n",
       "      <td>0</td>\n",
       "      <td>1</td>\n",
       "      <td>1</td>\n",
       "      <td>2</td>\n",
       "      <td>0</td>\n",
       "      <td>105.92</td>\n",
       "      <td>32.5</td>\n",
       "      <td>2</td>\n",
       "      <td>1</td>\n",
       "    </tr>\n",
       "    <tr>\n",
       "      <th>3</th>\n",
       "      <td>0</td>\n",
       "      <td>49.0</td>\n",
       "      <td>0</td>\n",
       "      <td>0</td>\n",
       "      <td>1</td>\n",
       "      <td>2</td>\n",
       "      <td>1</td>\n",
       "      <td>171.23</td>\n",
       "      <td>34.4</td>\n",
       "      <td>3</td>\n",
       "      <td>1</td>\n",
       "    </tr>\n",
       "    <tr>\n",
       "      <th>4</th>\n",
       "      <td>0</td>\n",
       "      <td>79.0</td>\n",
       "      <td>1</td>\n",
       "      <td>0</td>\n",
       "      <td>1</td>\n",
       "      <td>3</td>\n",
       "      <td>0</td>\n",
       "      <td>174.12</td>\n",
       "      <td>24.0</td>\n",
       "      <td>2</td>\n",
       "      <td>1</td>\n",
       "    </tr>\n",
       "  </tbody>\n",
       "</table>\n",
       "</div>"
      ],
      "text/plain": [
       "   gender   age  hypertension  heart_disease  ever_married  work_type  \\\n",
       "0       1  67.0             0              1             1          2   \n",
       "1       0  61.0             0              0             1          3   \n",
       "2       1  80.0             0              1             1          2   \n",
       "3       0  49.0             0              0             1          2   \n",
       "4       0  79.0             1              0             1          3   \n",
       "\n",
       "   Residence_type  avg_glucose_level   bmi  smoking_status  stroke  \n",
       "0               1             228.69  36.6               1       1  \n",
       "1               0             202.21   NaN               2       1  \n",
       "2               0             105.92  32.5               2       1  \n",
       "3               1             171.23  34.4               3       1  \n",
       "4               0             174.12  24.0               2       1  "
      ]
     },
     "execution_count": 10,
     "metadata": {},
     "output_type": "execute_result"
    }
   ],
   "source": [
    "# Encode Categorical Columns\n",
    "\n",
    "categorical_columns = ['gender','ever_married','work_type', 'Residence_type', 'smoking_status']\n",
    "le = LabelEncoder()\n",
    "data[categorical_columns] = data[categorical_columns].apply(le.fit_transform)\n",
    "data.head()"
   ]
  },
  {
   "cell_type": "code",
   "execution_count": 11,
   "id": "7a081b4a",
   "metadata": {},
   "outputs": [
    {
     "name": "stdout",
     "output_type": "stream",
     "text": [
      "Missing data: \n",
      "gender                 0\n",
      "age                    0\n",
      "hypertension           0\n",
      "heart_disease          0\n",
      "ever_married           0\n",
      "work_type              0\n",
      "Residence_type         0\n",
      "avg_glucose_level      0\n",
      "bmi                  201\n",
      "smoking_status         0\n",
      "stroke                 0\n",
      "dtype: int64\n"
     ]
    }
   ],
   "source": [
    "# Checking data for missing values\n",
    "\n",
    "print('Missing data: ')\n",
    "print(data.isnull().sum())"
   ]
  },
  {
   "cell_type": "code",
   "execution_count": 12,
   "id": "967e9d11",
   "metadata": {},
   "outputs": [
    {
     "name": "stdout",
     "output_type": "stream",
     "text": [
      "gender               0.349410\n",
      "age                 -0.137430\n",
      "hypertension         2.715026\n",
      "heart_disease        3.946786\n",
      "ever_married        -0.658345\n",
      "work_type           -0.308679\n",
      "Residence_type      -0.032506\n",
      "avg_glucose_level    1.572815\n",
      "bmi                  1.055063\n",
      "smoking_status      -0.039430\n",
      "stroke               4.192807\n",
      "dtype: float64\n"
     ]
    },
    {
     "data": {
      "image/png": "[encoded data removed]",
      "text/plain": [
       "<Figure size 432x288 with 1 Axes>"
      ]
     },
     "metadata": {
      "needs_background": "light"
     },
     "output_type": "display_data"
    }
   ],
   "source": [
    "# Checking distribution and skewness of BMI column \n",
    "\n",
    "data.hist(column = 'bmi')\n",
    "print(data.skew(axis=0))"
   ]
  },
  {
   "cell_type": "code",
   "execution_count": 13,
   "id": "3a01716b",
   "metadata": {},
   "outputs": [],
   "source": [
    "# Replacing missing valeus with median\n",
    "\n",
    "data['bmi'].fillna(data['bmi'].median(), inplace=True)"
   ]
  },
  {
   "cell_type": "code",
   "execution_count": 14,
   "id": "de5891ba",
   "metadata": {},
   "outputs": [
    {
     "data": {
      "text/plain": [
       "gender               0\n",
       "age                  0\n",
       "hypertension         0\n",
       "heart_disease        0\n",
       "ever_married         0\n",
       "work_type            0\n",
       "Residence_type       0\n",
       "avg_glucose_level    0\n",
       "bmi                  0\n",
       "smoking_status       0\n",
       "stroke               0\n",
       "dtype: int64"
      ]
     },
     "execution_count": 14,
     "metadata": {},
     "output_type": "execute_result"
    }
   ],
   "source": [
    "data.isnull().sum()"
   ]
  },
  {
   "cell_type": "markdown",
   "id": "e31a36a8",
   "metadata": {},
   "source": [
    "<b> Note: <b>\n",
    "    \n",
    "* BMI column has 201 missing values. Instead of dropping the individuals with missing data, we can impute missing BMI values \n",
    "\n",
    "* The distribution of BMI is positively skewed with value for skewness equals 1.05. Hence, we can impute missing values with median of BMI column.\n"
   ]
  },
  {
   "cell_type": "markdown",
   "id": "d1cb29ff",
   "metadata": {},
   "source": [
    "## Data visualisation <a id=\"4\"></a>\n",
    "<mark>[Return Contents](#0)\n",
    "<hr>"
   ]
  },
  {
   "cell_type": "code",
   "execution_count": 15,
   "id": "340ec3a5",
   "metadata": {},
   "outputs": [],
   "source": [
    "labels_gender = ['Female', 'Male']\n",
    "labels_disease = ['Not diseased', 'Diseased']\n",
    "labels_smoking = ['Formerly smoked', 'Never smoked', 'Smokes', 'Unknown']\n",
    "labels_hypertension = ['No', 'Yes']\n",
    "labels_heart = ['No', 'Yes']"
   ]
  },
  {
   "cell_type": "code",
   "execution_count": 16,
   "id": "77e388ce",
   "metadata": {},
   "outputs": [
    {
     "data": {
      "image/png": "[encoded data removed]",
      "text/plain": [
       "<Figure size 864x576 with 2 Axes>"
      ]
     },
     "metadata": {},
     "output_type": "display_data"
    }
   ],
   "source": [
    "# Displaying gender and stroke distribution in the dataset\n",
    "\n",
    "fig = plt.subplots(figsize=(12, 8))\n",
    "\n",
    "colors = ['#ff9999','#66b3ff']\n",
    "\n",
    "ax1 = plt.subplot2grid((1,2),(0,0))\n",
    "ax1.pie(data['gender'].value_counts(), labels=labels_gender, autopct='%.1f%%',  colors = colors, shadow = True, startangle=90)\n",
    "ax1.set_title('Gender Distribution')\n",
    "plt.tight_layout()\n",
    "\n",
    "ax2 = plt.subplot2grid((1,2),(0,1))\n",
    "ax2.pie(data['stroke'].value_counts(), labels=labels_disease, autopct='%.1f%%', colors = colors,  shadow = True, startangle=90)\n",
    "ax2.set_title('Stroke Distribution')\n",
    "plt.tight_layout()"
   ]
  },
  {
   "cell_type": "markdown",
   "id": "8bb889b9",
   "metadata": {},
   "source": [
    "<b> Important findings from pie chart <b>\n",
    "    \n",
    "* Proportion of females is 58.6% and males is 41.4%\n",
    "    \n",
    "* Class label is highly imbalanced with  5% diseased individuals and 95% non diseased individuals"
   ]
  },
  {
   "cell_type": "code",
   "execution_count": 17,
   "id": "e3c74eb7",
   "metadata": {},
   "outputs": [
    {
     "data": {
      "image/png": "[encoded data removed]",
      "text/plain": [
       "<Figure size 720x432 with 1 Axes>"
      ]
     },
     "metadata": {
      "needs_background": "light"
     },
     "output_type": "display_data"
    }
   ],
   "source": [
    "# Displaying distribution of diseased and non-diseased individuals by gender \n",
    "\n",
    "plt.figure(figsize=(10,6))\n",
    "ax3 = sns.countplot(data['gender'], hue=data['stroke'], palette=['#00CED1', '#FF7F50'], saturation=0.8)\n",
    "ax3.set_xticklabels(labels_gender, fontsize=12)\n",
    "plt.xlabel('Gender')\n",
    "plt.ylabel('Count')\n",
    "plt.title('Stroke by gender', fontsize=16)\n",
    "plt.legend(loc='upper left', fontsize=12, labels=['Non diseased', 'Diseased'])\n",
    "plt.show()"
   ]
  },
  {
   "cell_type": "code",
   "execution_count": 18,
   "id": "36085db1",
   "metadata": {},
   "outputs": [
    {
     "data": {
      "image/png": "[encoded data removed]",
      "text/plain": [
       "<Figure size 720x432 with 1 Axes>"
      ]
     },
     "metadata": {
      "needs_background": "light"
     },
     "output_type": "display_data"
    }
   ],
   "source": [
    "# Displaying distribution of diseased and non-diseased individuals by smoking status\n",
    "\n",
    "plt.figure(figsize=(10,6))\n",
    "ax4 = sns.countplot(data['smoking_status'], hue=data['stroke'], palette=['#00CED1', '#FF7F50'], saturation=0.8)\n",
    "ax4.set_xticklabels(labels_smoking, fontsize=12)\n",
    "plt.xlabel('Smoking status')\n",
    "plt.ylabel('Count')\n",
    "plt.title('Stroke by smoking status', fontsize=16)\n",
    "plt.legend(loc='upper left', fontsize=12, labels=['Non diseased', 'Diseased'])\n",
    "plt.show()"
   ]
  },
  {
   "cell_type": "code",
   "execution_count": 19,
   "id": "4bc3e32e",
   "metadata": {},
   "outputs": [
    {
     "data": {
      "image/png": "[encoded data removed]",
      "text/plain": [
       "<Figure size 720x432 with 1 Axes>"
      ]
     },
     "metadata": {
      "needs_background": "light"
     },
     "output_type": "display_data"
    }
   ],
   "source": [
    "# Displaying distribution of diseased and non-diseased individuals by heart disease\n",
    "\n",
    "plt.figure(figsize=(10,6))\n",
    "ax5 = sns.countplot(data['heart_disease'], hue=data['stroke'], palette=['#00CED1', '#FF7F50'], saturation=0.8)\n",
    "ax5.set_xticklabels(labels_heart, fontsize=12)\n",
    "plt.xlabel('Heart disease')\n",
    "plt.ylabel('Count')\n",
    "plt.title('Stroke by heart disease', fontsize=16)\n",
    "plt.legend(loc='upper left', fontsize=12, labels=['Non diseased', 'Diseased'])\n",
    "plt.show()"
   ]
  },
  {
   "cell_type": "code",
   "execution_count": 20,
   "id": "a2d58133",
   "metadata": {},
   "outputs": [
    {
     "data": {
      "image/png": "[encoded data removed]",
      "text/plain": [
       "<Figure size 720x432 with 1 Axes>"
      ]
     },
     "metadata": {
      "needs_background": "light"
     },
     "output_type": "display_data"
    }
   ],
   "source": [
    "# Displaying distribution of diseased and non-diseased individuals by hypertension\n",
    "\n",
    "plt.figure(figsize=(10,6))\n",
    "ax6 = sns.countplot(data['hypertension'], hue=data['stroke'], palette=['#00CED1', '#FF7F50'], saturation=0.8)\n",
    "ax6.set_xticklabels(labels_hypertension, fontsize=12)\n",
    "plt.xlabel('Hypertension')\n",
    "plt.ylabel('Count')\n",
    "plt.title('Stroke by hypertension', fontsize=16)\n",
    "plt.legend(loc='upper left', fontsize=12, labels=['Non diseased', 'Diseased'])\n",
    "plt.show()"
   ]
  },
  {
   "cell_type": "markdown",
   "id": "949d7d57",
   "metadata": {},
   "source": [
    "<b> Important findings from count plots <b>\n",
    "    \n",
    "* Count of males and females with stroke is approximately similar\n",
    "    \n",
    "* The number of individuals with stroke are slightly more in currently smokes category as compared to other smoking categories \n",
    "    \n",
    "* There are more individuals without hypertension and heart disease who suffer from stroke as compared to those with hypertension and stroke\n",
    "    "
   ]
  },
  {
   "cell_type": "code",
   "execution_count": 21,
   "id": "4f9ea3ff",
   "metadata": {},
   "outputs": [
    {
     "data": {
      "text/plain": [
       "Text(0.5, 1.0, 'Average glucose level Histogram')"
      ]
     },
     "execution_count": 21,
     "metadata": {},
     "output_type": "execute_result"
    },
    {
     "data": {
      "image/png": "[encoded data removed]",
      "text/plain": [
       "<Figure size 1080x360 with 3 Axes>"
      ]
     },
     "metadata": {
      "needs_background": "light"
     },
     "output_type": "display_data"
    }
   ],
   "source": [
    "# Displaying histogram for Age, BMI and Average glucose level\n",
    "\n",
    "fig, axes = plt.subplots(1, 3, figsize=(15, 5))\n",
    "\n",
    "# Histogram Plot for Age\n",
    "\n",
    "ax8 = sns.histplot(x='age', data=data, ax = axes[0])\n",
    "ax8.set_title(\"Age Histogram\")\n",
    "\n",
    "# Histogram Plot for BMI\n",
    "\n",
    "ax9 = sns.histplot(x='bmi', data=data, ax =axes[1])\n",
    "ax9.set_title(\"BMI Histogram\")\n",
    "\n",
    "# Histogram Plot for Average glucose level\n",
    "\n",
    "ax10 = sns.histplot(x='avg_glucose_level', data=data, ax =axes[2])\n",
    "ax10.set_title(\"Average glucose level Histogram\")\n"
   ]
  },
  {
   "cell_type": "markdown",
   "id": "878aae87",
   "metadata": {},
   "source": [
    "<b> Important findings from histogram <b>\n",
    "    \n",
    "* Distribution of BMI and average glucose level is highly positively skewed\n",
    "    \n",
    "* Distribution of age is approximately normal\n",
    "    "
   ]
  },
  {
   "cell_type": "code",
   "execution_count": 22,
   "id": "3bfa1e1d",
   "metadata": {},
   "outputs": [
    {
     "data": {
      "text/plain": [
       "Text(0.5, 1.0, 'Average glucose level Box Plot')"
      ]
     },
     "execution_count": 22,
     "metadata": {},
     "output_type": "execute_result"
    },
    {
     "data": {
      "image/png": "[encoded data removed]",
      "text/plain": [
       "<Figure size 1080x360 with 3 Axes>"
      ]
     },
     "metadata": {
      "needs_background": "light"
     },
     "output_type": "display_data"
    }
   ],
   "source": [
    "# Displaying histogram for Age, BMI and Average glucose level\n",
    "\n",
    "# Box Plot for Age\n",
    "fig, axes = plt.subplots(1, 3, figsize=(15, 5))\n",
    "\n",
    "ax14 = sns.boxplot(y= 'age', data=data, ax = axes[0])\n",
    "ax14.set_title(\"Age Box Plot\")\n",
    "\n",
    "# Box Plot for BMI\n",
    "\n",
    "ax15 = sns.boxplot(y= 'bmi', data=data, ax =axes[1])\n",
    "ax15.set_title(\"BMI Box Plot\")\n",
    "\n",
    "# Box Plot for Average glucose level\n",
    "\n",
    "ax16 = sns.boxplot(y='avg_glucose_level', data=data, ax =axes[2])\n",
    "ax16.set_title(\"Average glucose level Box Plot\")"
   ]
  },
  {
   "cell_type": "code",
   "execution_count": 23,
   "id": "37f47a96",
   "metadata": {},
   "outputs": [
    {
     "data": {
      "text/plain": [
       "[Text(0, 0, 'Non diseased'), Text(1, 0, 'Diseased')]"
      ]
     },
     "execution_count": 23,
     "metadata": {},
     "output_type": "execute_result"
    },
    {
     "data": {
      "image/png": "[encoded data removed]",
      "text/plain": [
       "<Figure size 1080x360 with 3 Axes>"
      ]
     },
     "metadata": {
      "needs_background": "light"
     },
     "output_type": "display_data"
    }
   ],
   "source": [
    "# Displaying boxplot for Age, BMI and Average glucose level by disease status\n",
    "\n",
    "\n",
    "# Box Plot for Age\n",
    "fig, axes = plt.subplots(1, 3, figsize=(15, 5))\n",
    "\n",
    "ax11 = sns.boxplot(x='stroke', y= 'age', data=data, ax = axes[0])\n",
    "ax11.set_title(\"Age Box Plot\")\n",
    "ax11.set_xticklabels(['Non diseased', 'Diseased'])\n",
    "\n",
    "# Box Plot for BMI\n",
    "\n",
    "ax12 = sns.boxplot(x='stroke', y= 'bmi', data=data, ax =axes[1])\n",
    "ax12.set_title(\"BMI Box Plot\")\n",
    "ax12.set_xticklabels(['Non diseased', 'Diseased'])\n",
    "\n",
    "# Box Plot for Average glucose level\n",
    "\n",
    "ax13 = sns.boxplot(x='stroke', y= 'avg_glucose_level', data=data, ax =axes[2])\n",
    "ax13.set_title(\"Average glucose level Box Plot\")\n",
    "ax13.set_xticklabels(['Non diseased', 'Diseased'])"
   ]
  },
  {
   "cell_type": "markdown",
   "id": "b4d8f7d1",
   "metadata": {},
   "source": [
    "<b> Important findings from box plots <b>\n",
    "    \n",
    "* Distribution of all 3 features age, bmi and average glucose level is highly dispersed with high range score\n",
    "\n",
    "* There is a greater variability in non diseased individuals for bmi and average glucose level as well as larger outliers.\n",
    "    "
   ]
  },
  {
   "cell_type": "code",
   "execution_count": 24,
   "id": "88b39173",
   "metadata": {},
   "outputs": [
    {
     "data": {
      "image/png": "[encoded data removed]",
      "text/plain": [
       "<Figure size 1152x432 with 1 Axes>"
      ]
     },
     "metadata": {
      "needs_background": "light"
     },
     "output_type": "display_data"
    }
   ],
   "source": [
    "# Displaying distribution of diseased and non-diseased individuals by gender and age\n",
    "\n",
    "plt.figure(figsize=(16, 6))\n",
    "palette=['#1E90FF', '#ee638f']\n",
    "labels_gender = ['Female', 'Male']\n",
    "ax7=sns.boxenplot(x=data.gender, y=data.age, hue=data.stroke, palette=palette, linewidth=3)\n",
    "ax7.set_xticklabels(labels_gender, fontsize=12)\n",
    "handles = ax7.get_legend_handles_labels()[0]\n",
    "ax7.legend(handles, ['Non diseased', 'Diseased'], loc = 'upper left')\n",
    "ax7.set_title(\"Boxen plot for Gender, Age and Disease status\",fontsize=16)\n",
    "plt.show()"
   ]
  },
  {
   "cell_type": "markdown",
   "id": "39dce4da",
   "metadata": {},
   "source": [
    "<b> Important findings from boxen plot <b>\n",
    "    \n",
    "* Older individuals suffer from stroke more as compared to younger individuals. However, there are some outliers in stroke group with childhood ages. Although, this is very rare but paediatric stroke is still possible.\n",
    "    \n",
    "* Men suffer from stroke at a slightly older age as compared to women \n",
    "    "
   ]
  },
  {
   "cell_type": "code",
   "execution_count": 25,
   "id": "8eb2af4c",
   "metadata": {},
   "outputs": [
    {
     "data": {
      "image/png": "[encoded data removed]",
      "text/plain": [
       "<Figure size 1440x576 with 2 Axes>"
      ]
     },
     "metadata": {
      "needs_background": "light"
     },
     "output_type": "display_data"
    }
   ],
   "source": [
    "# Correlation matrix \n",
    "\n",
    "plt.figure(figsize=(20, 8))\n",
    "cmap = sns.diverging_palette(2, 165, as_cmap=True)\n",
    "heatmap =sns.heatmap(data.corr(),  linewidths=1, cmap=cmap, annot = True, center=0)\n",
    "heatmap.set_title('Correlation Matrix for Stroke Dataset', fontdict={'fontsize':18}, pad=16);"
   ]
  },
  {
   "cell_type": "markdown",
   "id": "e4e7e336",
   "metadata": {},
   "source": [
    "<b> Important findings from correlation matrix <b>\n",
    "    \n",
    "* There are no strong correlations observed between features as well as between features and class label"
   ]
  },
  {
   "cell_type": "markdown",
   "id": "040bc3d9",
   "metadata": {},
   "source": [
    "## Model building <a id=\"5\"></a>\n",
    "<mark>[Return Contents](#0)\n",
    "<hr>"
   ]
  },
  {
   "cell_type": "code",
   "execution_count": 26,
   "id": "24f6ab16",
   "metadata": {},
   "outputs": [],
   "source": [
    "# Dividing data into input features and output class\n",
    "X, y = data.iloc[:, :-1], data.iloc[:, -1:]"
   ]
  },
  {
   "cell_type": "code",
   "execution_count": 27,
   "id": "88da7668",
   "metadata": {},
   "outputs": [
    {
     "data": {
      "text/html": [
       "<div>\n",
       "<style scoped>\n",
       "    .dataframe tbody tr th:only-of-type {\n",
       "        vertical-align: middle;\n",
       "    }\n",
       "\n",
       "    .dataframe tbody tr th {\n",
       "        vertical-align: top;\n",
       "    }\n",
       "\n",
       "    .dataframe thead th {\n",
       "        text-align: right;\n",
       "    }\n",
       "</style>\n",
       "<table border=\"1\" class=\"dataframe\">\n",
       "  <thead>\n",
       "    <tr style=\"text-align: right;\">\n",
       "      <th></th>\n",
       "      <th>gender</th>\n",
       "      <th>age</th>\n",
       "      <th>hypertension</th>\n",
       "      <th>heart_disease</th>\n",
       "      <th>ever_married</th>\n",
       "      <th>work_type</th>\n",
       "      <th>Residence_type</th>\n",
       "      <th>avg_glucose_level</th>\n",
       "      <th>bmi</th>\n",
       "      <th>smoking_status</th>\n",
       "    </tr>\n",
       "  </thead>\n",
       "  <tbody>\n",
       "    <tr>\n",
       "      <th>0</th>\n",
       "      <td>1</td>\n",
       "      <td>67.0</td>\n",
       "      <td>0</td>\n",
       "      <td>1</td>\n",
       "      <td>1</td>\n",
       "      <td>2</td>\n",
       "      <td>1</td>\n",
       "      <td>228.69</td>\n",
       "      <td>36.6</td>\n",
       "      <td>1</td>\n",
       "    </tr>\n",
       "    <tr>\n",
       "      <th>1</th>\n",
       "      <td>0</td>\n",
       "      <td>61.0</td>\n",
       "      <td>0</td>\n",
       "      <td>0</td>\n",
       "      <td>1</td>\n",
       "      <td>3</td>\n",
       "      <td>0</td>\n",
       "      <td>202.21</td>\n",
       "      <td>28.1</td>\n",
       "      <td>2</td>\n",
       "    </tr>\n",
       "    <tr>\n",
       "      <th>2</th>\n",
       "      <td>1</td>\n",
       "      <td>80.0</td>\n",
       "      <td>0</td>\n",
       "      <td>1</td>\n",
       "      <td>1</td>\n",
       "      <td>2</td>\n",
       "      <td>0</td>\n",
       "      <td>105.92</td>\n",
       "      <td>32.5</td>\n",
       "      <td>2</td>\n",
       "    </tr>\n",
       "    <tr>\n",
       "      <th>3</th>\n",
       "      <td>0</td>\n",
       "      <td>49.0</td>\n",
       "      <td>0</td>\n",
       "      <td>0</td>\n",
       "      <td>1</td>\n",
       "      <td>2</td>\n",
       "      <td>1</td>\n",
       "      <td>171.23</td>\n",
       "      <td>34.4</td>\n",
       "      <td>3</td>\n",
       "    </tr>\n",
       "    <tr>\n",
       "      <th>4</th>\n",
       "      <td>0</td>\n",
       "      <td>79.0</td>\n",
       "      <td>1</td>\n",
       "      <td>0</td>\n",
       "      <td>1</td>\n",
       "      <td>3</td>\n",
       "      <td>0</td>\n",
       "      <td>174.12</td>\n",
       "      <td>24.0</td>\n",
       "      <td>2</td>\n",
       "    </tr>\n",
       "  </tbody>\n",
       "</table>\n",
       "</div>"
      ],
      "text/plain": [
       "   gender   age  hypertension  heart_disease  ever_married  work_type  \\\n",
       "0       1  67.0             0              1             1          2   \n",
       "1       0  61.0             0              0             1          3   \n",
       "2       1  80.0             0              1             1          2   \n",
       "3       0  49.0             0              0             1          2   \n",
       "4       0  79.0             1              0             1          3   \n",
       "\n",
       "   Residence_type  avg_glucose_level   bmi  smoking_status  \n",
       "0               1             228.69  36.6               1  \n",
       "1               0             202.21  28.1               2  \n",
       "2               0             105.92  32.5               2  \n",
       "3               1             171.23  34.4               3  \n",
       "4               0             174.12  24.0               2  "
      ]
     },
     "execution_count": 27,
     "metadata": {},
     "output_type": "execute_result"
    }
   ],
   "source": [
    "# Input data\n",
    "\n",
    "X.head()"
   ]
  },
  {
   "cell_type": "code",
   "execution_count": 28,
   "id": "7235bc03",
   "metadata": {},
   "outputs": [
    {
     "data": {
      "text/html": [
       "<div>\n",
       "<style scoped>\n",
       "    .dataframe tbody tr th:only-of-type {\n",
       "        vertical-align: middle;\n",
       "    }\n",
       "\n",
       "    .dataframe tbody tr th {\n",
       "        vertical-align: top;\n",
       "    }\n",
       "\n",
       "    .dataframe thead th {\n",
       "        text-align: right;\n",
       "    }\n",
       "</style>\n",
       "<table border=\"1\" class=\"dataframe\">\n",
       "  <thead>\n",
       "    <tr style=\"text-align: right;\">\n",
       "      <th></th>\n",
       "      <th>stroke</th>\n",
       "    </tr>\n",
       "  </thead>\n",
       "  <tbody>\n",
       "    <tr>\n",
       "      <th>0</th>\n",
       "      <td>1</td>\n",
       "    </tr>\n",
       "    <tr>\n",
       "      <th>1</th>\n",
       "      <td>1</td>\n",
       "    </tr>\n",
       "    <tr>\n",
       "      <th>2</th>\n",
       "      <td>1</td>\n",
       "    </tr>\n",
       "    <tr>\n",
       "      <th>3</th>\n",
       "      <td>1</td>\n",
       "    </tr>\n",
       "    <tr>\n",
       "      <th>4</th>\n",
       "      <td>1</td>\n",
       "    </tr>\n",
       "  </tbody>\n",
       "</table>\n",
       "</div>"
      ],
      "text/plain": [
       "   stroke\n",
       "0       1\n",
       "1       1\n",
       "2       1\n",
       "3       1\n",
       "4       1"
      ]
     },
     "execution_count": 28,
     "metadata": {},
     "output_type": "execute_result"
    }
   ],
   "source": [
    "# Class label\n",
    "\n",
    "y.head()"
   ]
  },
  {
   "cell_type": "code",
   "execution_count": 29,
   "id": "5582ae0f",
   "metadata": {},
   "outputs": [
    {
     "name": "stdout",
     "output_type": "stream",
     "text": [
      "(5109, 10)\n",
      "(5109, 1)\n"
     ]
    }
   ],
   "source": [
    "print(X.shape)\n",
    "print(y.shape)"
   ]
  },
  {
   "cell_type": "code",
   "execution_count": 30,
   "id": "60bb33eb",
   "metadata": {},
   "outputs": [],
   "source": [
    "#  Splitting data into train and test\n",
    "\n",
    "X_train_tune, X_test_df, y_train_tune, y_test_df = train_test_split(X, y, test_size=0.2, random_state=1)\n",
    "\n",
    "X_train_df, X_val_df, y_train_df, y_val_df = train_test_split(X_train_tune, y_train_tune, test_size=0.15, random_state=1) # 0.25 x 0.8 = 0.2\n",
    "\n",
    "# X_train_df, X_test_df, y_train_df, y_test_df = train_test_split(X, y, test_size=0.3, random_state= 0)"
   ]
  },
  {
   "cell_type": "code",
   "execution_count": 31,
   "id": "3b73fc36",
   "metadata": {},
   "outputs": [
    {
     "name": "stdout",
     "output_type": "stream",
     "text": [
      "Train Shape: (3473, 10)\n",
      "Validation Shape: (614, 10)\n",
      "Test Shape: (1022, 10)\n"
     ]
    }
   ],
   "source": [
    "print(\"Train Shape: {}\".format(X_train_df.shape))\n",
    "print(\"Validation Shape: {}\".format(X_val_df.shape))\n",
    "print(\"Test Shape: {}\".format(X_test_df.shape))"
   ]
  },
  {
   "cell_type": "code",
   "execution_count": 32,
   "id": "19569690",
   "metadata": {},
   "outputs": [
    {
     "name": "stdout",
     "output_type": "stream",
     "text": [
      "X_train shape after oversampling:  (6606, 10)\n",
      "y_train shape after oversampling:  (6606, 1)\n"
     ]
    }
   ],
   "source": [
    "# Performing oversampling\n",
    "\n",
    "OS = RandomOverSampler(random_state=0)\n",
    "osx, osy = OS.fit_resample(X_train_df, y_train_df)\n",
    "print(\"X_train shape after oversampling: \", osx.shape)\n",
    "print(\"y_train shape after oversampling: \", osy.shape)"
   ]
  },
  {
   "cell_type": "code",
   "execution_count": 33,
   "id": "f1533e29",
   "metadata": {},
   "outputs": [],
   "source": [
    "# Performing standardization\n",
    "\n",
    "sc = StandardScaler()\n",
    "X_train = sc.fit_transform(osx)\n",
    "X_val = sc.fit_transform(X_val_df)\n",
    "X_test = sc.fit_transform(X_test_df)"
   ]
  },
  {
   "cell_type": "code",
   "execution_count": 34,
   "id": "7eb6d14a",
   "metadata": {},
   "outputs": [
    {
     "data": {
      "text/plain": [
       "array([[ 1.20617142,  0.31939861, -0.46826179, ..., -0.61591723,\n",
       "         1.01154191, -0.42030218],\n",
       "       [-0.82906955, -0.71710541, -0.46826179, ..., -0.71883621,\n",
       "        -0.98632002,  0.5467881 ],\n",
       "       [ 1.20617142, -2.06906718, -0.46826179, ...,  0.04870741,\n",
       "        -1.57392647, -1.38739245],\n",
       "       ...,\n",
       "       [ 1.20617142, -0.04112452, -0.46826179, ..., -0.5664509 ,\n",
       "         0.24765353,  1.51387837],\n",
       "       [-0.82906955,  0.86018332, -0.46826179, ..., -0.80001174,\n",
       "        -0.41340373,  0.5467881 ],\n",
       "       [-0.82906955,  1.04044489,  2.13555755, ...,  1.53577786,\n",
       "         2.39241707,  0.5467881 ]])"
      ]
     },
     "execution_count": 34,
     "metadata": {},
     "output_type": "execute_result"
    }
   ],
   "source": [
    "X_train"
   ]
  },
  {
   "cell_type": "code",
   "execution_count": 35,
   "id": "a957df64",
   "metadata": {},
   "outputs": [
    {
     "data": {
      "text/plain": [
       "array([[-0.85130435,  0.38147098, -0.3105295 , ...,  0.03177528,\n",
       "         0.25078602,  0.62127172],\n",
       "       [-0.85130435, -1.42357819, -0.3105295 , ..., -0.79802466,\n",
       "        -1.88840489, -1.2578457 ],\n",
       "       [-0.85130435,  0.33634475, -0.3105295 , ..., -0.3935435 ,\n",
       "         0.42035603,  0.62127172],\n",
       "       ...,\n",
       "       [-0.85130435, -0.65643229, -0.3105295 , ..., -0.71652645,\n",
       "        -0.3100994 ,  1.56083043],\n",
       "       [ 1.17466802, -0.61130606,  3.22030594, ..., -0.61581134,\n",
       "        -0.10139785, -0.31828699],\n",
       "       [-0.85130435, -0.61130606, -0.3105295 , ..., -0.74685675,\n",
       "        -0.16661709,  0.62127172]])"
      ]
     },
     "execution_count": 35,
     "metadata": {},
     "output_type": "execute_result"
    }
   ],
   "source": [
    "X_val"
   ]
  },
  {
   "cell_type": "code",
   "execution_count": 36,
   "id": "09e05dd4",
   "metadata": {},
   "outputs": [
    {
     "data": {
      "text/plain": [
       "array([[ 1.21926946, -1.55443213, -0.3401772 , ..., -1.05401379,\n",
       "        -1.26468711, -1.35160688],\n",
       "       [ 1.21926946, -1.81639089, -0.3401772 , ..., -0.34378401,\n",
       "        -0.73833399, -1.35160688],\n",
       "       [-0.82016325, -1.77273109, -0.3401772 , ..., -0.36412003,\n",
       "        -1.72837916, -1.35160688],\n",
       "       ...,\n",
       "       [ 1.21926946, -1.51077234, -0.3401772 , ..., -0.24997595,\n",
       "        -0.73833399, -1.35160688],\n",
       "       [-0.82016325,  0.10463996, -0.3401772 , ..., -0.320168  ,\n",
       "        -0.53781851,  0.5419397 ],\n",
       "       [ 1.21926946, -0.20097858, -0.3401772 , ...,  0.16964564,\n",
       "         1.39214295, -0.40483359]])"
      ]
     },
     "execution_count": 36,
     "metadata": {},
     "output_type": "execute_result"
    }
   ],
   "source": [
    "X_test"
   ]
  },
  {
   "cell_type": "code",
   "execution_count": 37,
   "id": "8d80423a",
   "metadata": {},
   "outputs": [
    {
     "data": {
      "text/plain": [
       "array([0, 0, 0, ..., 1, 1, 1])"
      ]
     },
     "execution_count": 37,
     "metadata": {},
     "output_type": "execute_result"
    }
   ],
   "source": [
    "# Converting dataframe to numpy array\n",
    "\n",
    "y_train = osy.to_numpy().ravel()\n",
    "y_train"
   ]
  },
  {
   "cell_type": "code",
   "execution_count": 38,
   "id": "db04ccea",
   "metadata": {},
   "outputs": [
    {
     "data": {
      "text/plain": [
       "array([0, 0, 0, 0, 0, 0, 1, 0, 0, 0, 0, 0, 0, 0, 0, 0, 0, 0, 0, 0, 0, 0,\n",
       "       0, 0, 0, 0, 0, 0, 0, 0, 0, 0, 0, 0, 0, 0, 0, 0, 0, 0, 0, 0, 0, 0,\n",
       "       0, 0, 0, 0, 0, 0, 0, 0, 0, 0, 0, 0, 0, 0, 0, 0, 0, 0, 0, 0, 0, 0,\n",
       "       0, 0, 0, 0, 0, 0, 0, 0, 0, 0, 0, 0, 0, 0, 0, 0, 0, 0, 0, 0, 0, 0,\n",
       "       0, 0, 0, 0, 0, 0, 0, 0, 0, 0, 0, 0, 0, 0, 0, 0, 0, 0, 0, 0, 0, 0,\n",
       "       0, 0, 0, 0, 0, 0, 0, 0, 0, 0, 0, 0, 0, 0, 0, 0, 0, 0, 0, 0, 0, 0,\n",
       "       0, 0, 0, 0, 0, 0, 0, 0, 0, 0, 0, 0, 0, 0, 0, 0, 0, 0, 1, 0, 0, 0,\n",
       "       0, 0, 0, 0, 0, 0, 0, 0, 0, 0, 0, 0, 0, 0, 0, 0, 0, 0, 1, 0, 0, 0,\n",
       "       0, 0, 0, 0, 0, 0, 0, 0, 0, 0, 0, 0, 0, 0, 0, 0, 0, 0, 0, 0, 0, 0,\n",
       "       0, 0, 0, 0, 0, 0, 0, 0, 1, 0, 0, 0, 0, 0, 0, 0, 0, 0, 0, 0, 0, 0,\n",
       "       0, 0, 0, 0, 0, 0, 0, 0, 0, 0, 0, 1, 0, 0, 0, 0, 0, 0, 0, 0, 0, 0,\n",
       "       0, 0, 0, 0, 0, 0, 0, 0, 0, 0, 0, 0, 0, 0, 0, 0, 0, 0, 0, 0, 0, 0,\n",
       "       0, 0, 0, 0, 0, 0, 0, 0, 0, 0, 0, 0, 0, 0, 0, 0, 0, 0, 0, 0, 0, 0,\n",
       "       0, 0, 0, 0, 0, 0, 0, 0, 0, 0, 0, 0, 0, 0, 0, 0, 0, 0, 0, 0, 0, 0,\n",
       "       0, 0, 1, 0, 0, 0, 0, 0, 0, 0, 0, 0, 0, 0, 0, 0, 0, 0, 0, 0, 0, 0,\n",
       "       0, 0, 0, 0, 0, 0, 0, 0, 0, 0, 0, 0, 0, 0, 1, 0, 0, 0, 0, 0, 0, 0,\n",
       "       0, 0, 0, 0, 0, 0, 0, 0, 0, 0, 0, 0, 0, 0, 0, 0, 0, 0, 0, 0, 0, 0,\n",
       "       0, 0, 0, 0, 0, 0, 1, 0, 0, 0, 0, 0, 0, 0, 0, 0, 0, 1, 0, 0, 0, 0,\n",
       "       0, 0, 0, 0, 0, 0, 0, 0, 0, 0, 0, 0, 0, 0, 0, 0, 0, 0, 0, 0, 0, 0,\n",
       "       0, 1, 0, 0, 0, 0, 0, 0, 0, 0, 0, 1, 0, 0, 0, 0, 0, 0, 0, 0, 0, 0,\n",
       "       0, 0, 0, 0, 0, 0, 1, 0, 0, 0, 0, 0, 0, 0, 0, 0, 0, 0, 0, 0, 0, 0,\n",
       "       0, 0, 0, 0, 0, 0, 0, 0, 0, 1, 0, 0, 0, 0, 0, 0, 0, 0, 0, 0, 0, 0,\n",
       "       0, 0, 0, 0, 0, 0, 0, 0, 0, 0, 0, 0, 0, 1, 0, 0, 1, 1, 0, 0, 0, 0,\n",
       "       0, 0, 0, 0, 0, 0, 0, 0, 0, 0, 0, 0, 0, 0, 0, 0, 0, 0, 0, 0, 0, 0,\n",
       "       0, 0, 0, 0, 1, 0, 0, 0, 0, 0, 0, 0, 0, 0, 0, 0, 0, 0, 0, 0, 0, 0,\n",
       "       0, 1, 0, 0, 0, 0, 0, 0, 0, 0, 0, 0, 0, 0, 1, 0, 0, 0, 0, 0, 0, 0,\n",
       "       0, 0, 0, 0, 0, 0, 0, 0, 0, 0, 0, 0, 0, 0, 0, 0, 0, 0, 0, 0, 0, 0,\n",
       "       0, 0, 0, 0, 0, 0, 0, 0, 0, 0, 0, 0, 0, 0, 0, 0, 0, 0, 0, 0])"
      ]
     },
     "execution_count": 38,
     "metadata": {},
     "output_type": "execute_result"
    }
   ],
   "source": [
    "y_val = y_val_df.to_numpy().ravel()\n",
    "y_val"
   ]
  },
  {
   "cell_type": "code",
   "execution_count": 39,
   "id": "f822189c",
   "metadata": {},
   "outputs": [
    {
     "data": {
      "text/plain": [
       "array([0, 0, 0, ..., 0, 0, 0])"
      ]
     },
     "execution_count": 39,
     "metadata": {},
     "output_type": "execute_result"
    }
   ],
   "source": [
    "y_test = y_test_df.to_numpy().ravel()\n",
    "y_test"
   ]
  },
  {
   "cell_type": "code",
   "execution_count": 40,
   "id": "8c372088",
   "metadata": {},
   "outputs": [],
   "source": [
    "def bestThreshold(y_true, y_pred):\n",
    "\n",
    "# Calculating best threshold for maximum F1 score\n",
    "    P, R, T = precision_recall_curve(y_true, y_pred.round(3))\n",
    "    F1index, = np.where((2*(P*R)/(P+R)) == max((2*(P*R)/(P+R))))\n",
    "    f1index = T[F1index][0]\n",
    "    print(\"Best Threshold for maximum F1 score: \", f1index)\n",
    "    return f1index"
   ]
  },
  {
   "cell_type": "code",
   "execution_count": 41,
   "id": "7b9acf42",
   "metadata": {},
   "outputs": [],
   "source": [
    "def performance(y_true, y_pred, f1index):\n",
    "\n",
    "# Predicting class label based on best threshold\n",
    "\n",
    "    y_pred_new = np.where(y_pred >= f1index, 1, 0)\n",
    "\n",
    "# Calculating performace metrices\n",
    "\n",
    "    pf1 = metrics.precision_score(y_true, y_pred_new)\n",
    "    rf1 = metrics.recall_score(y_true,y_pred_new)\n",
    "    f1_1 = (2 * (pf1*rf1) / (pf1 + rf1))\n",
    "    \n",
    "# Printing accuracy, precision, recall and F1 score:\n",
    "\n",
    "    print('Accuracy: %.3f' % metrics.accuracy_score(y_true, y_pred_new.round(2)))\n",
    "    print(\"Precision at Best F1 :\", pf1)\n",
    "    print(\"Recall at Best F1 :\", rf1)\n",
    "    print(\"Best F1 Score :\", f1_1)\n",
    "    \n",
    "# Printing confusion matrix \n",
    "\n",
    "    cm = confusion_matrix(y_true, y_pred_new)\n",
    "    df = pd.DataFrame(cm,\n",
    "                     index = [0, 1], \n",
    "                     columns = [0, 1])\n",
    "    plt.figure(figsize=(10,5))\n",
    "    sns.heatmap(df, fmt=\"d\", cmap = 'BuGn', annot=True)\n",
    "    plt.title('Confusion Matrix')\n",
    "    plt.ylabel('Actual Values')\n",
    "    plt.xlabel('Predicted Values')\n",
    "    plt.show()"
   ]
  },
  {
   "cell_type": "markdown",
   "id": "162f8791",
   "metadata": {},
   "source": [
    "<b> "
   ]
  },
  {
   "cell_type": "markdown",
   "id": "b1d9bddf",
   "metadata": {},
   "source": [
    "<b> Logistic Regression <b>"
   ]
  },
  {
   "cell_type": "code",
   "execution_count": 42,
   "id": "ab887990",
   "metadata": {},
   "outputs": [],
   "source": [
    "# Logistic regression\n",
    "\n",
    "lor = LogisticRegression(max_iter = 20000)\n",
    "lor.fit(X_train, y_train)\n",
    "y_val_pred_lor = lor.predict(X_val)"
   ]
  },
  {
   "cell_type": "code",
   "execution_count": 43,
   "id": "598964e7",
   "metadata": {},
   "outputs": [
    {
     "name": "stdout",
     "output_type": "stream",
     "text": [
      "Accuracy :  0.5553745928338762\n",
      "Precision :  0.059027777777777776\n",
      "Recall :  0.8947368421052632\n",
      "F1 score :  0.11074918566775245\n"
     ]
    }
   ],
   "source": [
    "# Printing scores for accuracy, precision, recall and F1 with threshold 0.5\n",
    "\n",
    "print(\"Accuracy : \", metrics.accuracy_score(y_val, y_val_pred_lor))\n",
    "print(\"Precision : \", metrics.precision_score(y_val, y_val_pred_lor))\n",
    "print(\"Recall : \", metrics.recall_score(y_val, y_val_pred_lor))\n",
    "print(\"F1 score : \", metrics.f1_score(y_val, y_val_pred_lor))"
   ]
  },
  {
   "cell_type": "code",
   "execution_count": 44,
   "id": "6db675ff",
   "metadata": {},
   "outputs": [
    {
     "data": {
      "text/plain": [
       "array([0.5901919 , 0.07348657, 0.55158436, 0.8692085 , 0.81749494,\n",
       "       0.03563532, 0.93889825, 0.04000919, 0.13656255, 0.21132713,\n",
       "       0.13315282, 0.14863129, 0.8012939 , 0.20443922, 0.50997239,\n",
       "       0.09294311, 0.07758153, 0.43499084, 0.5294772 , 0.34350958,\n",
       "       0.17778339, 0.84533251, 0.12316908, 0.0367498 , 0.13534342,\n",
       "       0.28062785, 0.10598128, 0.97459354, 0.16509053, 0.96784532,\n",
       "       0.59833853, 0.76919572, 0.80635983, 0.46907555, 0.94735302,\n",
       "       0.6283407 , 0.70578857, 0.92609312, 0.57164407, 0.63196893,\n",
       "       0.07222791, 0.40361193, 0.74390412, 0.42652412, 0.25841966,\n",
       "       0.60342324, 0.61226367, 0.79849076, 0.92239013, 0.05378858,\n",
       "       0.69976722, 0.75610241, 0.58323382, 0.04803207, 0.06110172,\n",
       "       0.91880072, 0.38966455, 0.90732755, 0.1102547 , 0.26207897,\n",
       "       0.76322798, 0.2811851 , 0.11135666, 0.38189743, 0.76340337,\n",
       "       0.11210117, 0.81468001, 0.62315942, 0.84396673, 0.60669488,\n",
       "       0.3587874 , 0.18129746, 0.29918093, 0.54519342, 0.61435371,\n",
       "       0.95067833, 0.75847122, 0.87901685, 0.15169192, 0.91614148,\n",
       "       0.38326964, 0.29508097, 0.18540214, 0.13517798, 0.02784977,\n",
       "       0.52395234, 0.96421653, 0.24765595, 0.52412349, 0.39798421,\n",
       "       0.24177847, 0.0629371 , 0.16683823, 0.95039168, 0.54809554,\n",
       "       0.94115785, 0.03632623, 0.6980171 , 0.82758961, 0.49006338,\n",
       "       0.56165171, 0.66868605, 0.65912242, 0.05508734, 0.80496538,\n",
       "       0.92108412, 0.05229844, 0.55290324, 0.10606104, 0.19224256,\n",
       "       0.06309867, 0.95200271, 0.95338158, 0.50038041, 0.45664253,\n",
       "       0.73677984, 0.1232389 , 0.85552456, 0.79727082, 0.11360765,\n",
       "       0.46176399, 0.10332041, 0.08719369, 0.75165256, 0.15455044,\n",
       "       0.10157528, 0.68342762, 0.57945309, 0.68678956, 0.78085586,\n",
       "       0.95146125, 0.79690678, 0.14361386, 0.07638803, 0.25759999,\n",
       "       0.82727847, 0.30236708, 0.83702523, 0.12482012, 0.09606038,\n",
       "       0.7338893 , 0.83353308, 0.43817571, 0.71372394, 0.25159396,\n",
       "       0.68825168, 0.07039798, 0.93604142, 0.8052298 , 0.05804221,\n",
       "       0.92085815, 0.03172615, 0.29097689, 0.05774594, 0.24445779,\n",
       "       0.1858188 , 0.08092063, 0.18287459, 0.12033978, 0.14970152,\n",
       "       0.83181308, 0.33480347, 0.37493881, 0.77570232, 0.73053232,\n",
       "       0.93763919, 0.05207945, 0.12127166, 0.57142955, 0.61077406,\n",
       "       0.16643208, 0.12419733, 0.95479761, 0.09876675, 0.6541028 ,\n",
       "       0.21748413, 0.80992906, 0.19969956, 0.83037523, 0.60251601,\n",
       "       0.52455193, 0.79526377, 0.05671379, 0.82816281, 0.81662651,\n",
       "       0.7555765 , 0.74803379, 0.80099184, 0.17900095, 0.59960689,\n",
       "       0.81404298, 0.87999655, 0.70772435, 0.07837176, 0.11609313,\n",
       "       0.86082087, 0.04087901, 0.93431703, 0.76885148, 0.56410364,\n",
       "       0.83356897, 0.31752407, 0.16290787, 0.64282019, 0.44085704,\n",
       "       0.12201329, 0.50718027, 0.91750613, 0.38450334, 0.11081972,\n",
       "       0.45058845, 0.10871407, 0.42399136, 0.45281995, 0.21886634,\n",
       "       0.03562532, 0.15645949, 0.25538473, 0.72926269, 0.48586205,\n",
       "       0.39263902, 0.71669339, 0.64108346, 0.09741326, 0.03818684,\n",
       "       0.85171569, 0.3554786 , 0.35325641, 0.18629529, 0.09755634,\n",
       "       0.22788552, 0.81998743, 0.53408776, 0.53414114, 0.26178306,\n",
       "       0.91385766, 0.88135656, 0.12554674, 0.43887081, 0.41403298,\n",
       "       0.89830636, 0.1038693 , 0.57733268, 0.89026247, 0.35938942,\n",
       "       0.16105404, 0.92423828, 0.10556945, 0.77445527, 0.50240926,\n",
       "       0.45322368, 0.69627798, 0.94865244, 0.20869435, 0.03881815,\n",
       "       0.21963176, 0.37054026, 0.02922995, 0.66567226, 0.49907989,\n",
       "       0.60776752, 0.0892264 , 0.63175805, 0.05426562, 0.64336996,\n",
       "       0.61056885, 0.68318691, 0.43726744, 0.69009904, 0.21358326,\n",
       "       0.10455066, 0.50106562, 0.50904572, 0.13898471, 0.75503514,\n",
       "       0.80806981, 0.53319313, 0.25221215, 0.62936635, 0.93126508,\n",
       "       0.15414049, 0.06148099, 0.94955597, 0.8315558 , 0.9386212 ,\n",
       "       0.15866095, 0.09400896, 0.62786637, 0.84618068, 0.42687475,\n",
       "       0.14328423, 0.0578555 , 0.41493295, 0.26479543, 0.66276257,\n",
       "       0.38115857, 0.45913386, 0.92390222, 0.20982163, 0.03096338,\n",
       "       0.23690145, 0.5035393 , 0.34661037, 0.53350702, 0.13434204,\n",
       "       0.81534496, 0.13384828, 0.04537265, 0.0401408 , 0.04399252,\n",
       "       0.92556287, 0.7654616 , 0.80643234, 0.85047276, 0.06426853,\n",
       "       0.38984198, 0.05770278, 0.05616069, 0.22892152, 0.62686974,\n",
       "       0.31503682, 0.61964218, 0.42865171, 0.92446737, 0.03979995,\n",
       "       0.06238319, 0.10894931, 0.94926963, 0.75333933, 0.68322796,\n",
       "       0.83286415, 0.27961679, 0.15094574, 0.92589711, 0.19841257,\n",
       "       0.88356719, 0.6344223 , 0.36236967, 0.12115591, 0.22277827,\n",
       "       0.43796693, 0.31016568, 0.88703142, 0.13099424, 0.92140905,\n",
       "       0.13950458, 0.04815632, 0.62604144, 0.7819087 , 0.95515311,\n",
       "       0.29924379, 0.1958962 , 0.30641922, 0.05794066, 0.78749875,\n",
       "       0.34626501, 0.89299423, 0.05501434, 0.49023835, 0.7623236 ,\n",
       "       0.49168817, 0.02527321, 0.67844619, 0.49411835, 0.27566923,\n",
       "       0.30010321, 0.82684549, 0.1744308 , 0.98083665, 0.25176354,\n",
       "       0.23011202, 0.28011116, 0.35812109, 0.09324114, 0.88195744,\n",
       "       0.08462688, 0.32094661, 0.71127491, 0.92045768, 0.71658607,\n",
       "       0.89449984, 0.4988405 , 0.18125129, 0.80405872, 0.11112851,\n",
       "       0.03293569, 0.92420375, 0.90399746, 0.17229386, 0.14591745,\n",
       "       0.38688396, 0.72926742, 0.42869101, 0.72062519, 0.13290088,\n",
       "       0.74653646, 0.74230609, 0.15357255, 0.11913129, 0.25769972,\n",
       "       0.62670625, 0.04248376, 0.5447008 , 0.08335435, 0.92450219,\n",
       "       0.31713249, 0.35745831, 0.62307934, 0.87941456, 0.04080692,\n",
       "       0.49260775, 0.84861795, 0.07484876, 0.1897027 , 0.65773031,\n",
       "       0.69169671, 0.11897029, 0.1532331 , 0.37146617, 0.47148213,\n",
       "       0.37767742, 0.15539129, 0.14687127, 0.05046662, 0.10899962,\n",
       "       0.64430585, 0.14194252, 0.53784636, 0.96141098, 0.7623489 ,\n",
       "       0.94176003, 0.94901129, 0.68629092, 0.10256675, 0.83810667,\n",
       "       0.75415283, 0.58481598, 0.29541433, 0.47505384, 0.5477723 ,\n",
       "       0.32073404, 0.29657943, 0.47165943, 0.7634534 , 0.20832889,\n",
       "       0.69322166, 0.90145225, 0.50490315, 0.03587475, 0.04744983,\n",
       "       0.81275166, 0.19907234, 0.91598356, 0.8583192 , 0.97391985,\n",
       "       0.40567873, 0.03570713, 0.10374679, 0.36831164, 0.64115878,\n",
       "       0.71964154, 0.85548298, 0.49752328, 0.71281162, 0.12617865,\n",
       "       0.77531191, 0.1597601 , 0.1794123 , 0.74477028, 0.05357638,\n",
       "       0.82185242, 0.74803946, 0.34713832, 0.78084377, 0.38840279,\n",
       "       0.21252459, 0.95749224, 0.71979727, 0.93491316, 0.49435244,\n",
       "       0.84791291, 0.25852734, 0.91615542, 0.27906967, 0.20158543,\n",
       "       0.18795765, 0.05473144, 0.13654181, 0.92272666, 0.1749037 ,\n",
       "       0.96826511, 0.64564681, 0.70101335, 0.03347062, 0.05699218,\n",
       "       0.92264326, 0.89372863, 0.94061207, 0.88179392, 0.14250479,\n",
       "       0.91479677, 0.95825535, 0.03270732, 0.9087974 , 0.95425223,\n",
       "       0.39604631, 0.70966162, 0.09191018, 0.68531842, 0.83684541,\n",
       "       0.62646386, 0.47019022, 0.06287234, 0.16668888, 0.86725659,\n",
       "       0.65322952, 0.22533951, 0.13659404, 0.24447368, 0.22738488,\n",
       "       0.35049455, 0.60607344, 0.35101644, 0.05119142, 0.27433676,\n",
       "       0.26089444, 0.21574274, 0.18365919, 0.4951062 , 0.43661131,\n",
       "       0.14211308, 0.1151682 , 0.92474339, 0.62401897, 0.7791363 ,\n",
       "       0.66851674, 0.55984196, 0.05243965, 0.93036643, 0.90966751,\n",
       "       0.13680866, 0.47604157, 0.87671785, 0.93024206, 0.43592264,\n",
       "       0.16909592, 0.32718241, 0.28430339, 0.30244873, 0.57406185,\n",
       "       0.64724286, 0.08045616, 0.43844943, 0.18630757, 0.91409599,\n",
       "       0.49254762, 0.71706994, 0.10334131, 0.85565143, 0.91218559,\n",
       "       0.24809315, 0.59051371, 0.82303079, 0.73695385, 0.56517154,\n",
       "       0.24096227, 0.09439454, 0.95575427, 0.41761742, 0.83708145,\n",
       "       0.78038235, 0.52494572, 0.78128074, 0.34711426, 0.11701177,\n",
       "       0.45172777, 0.2097177 , 0.62202291, 0.29311674, 0.44082558,\n",
       "       0.07601363, 0.32058577, 0.96897916, 0.29952212, 0.91093597,\n",
       "       0.14462943, 0.34557604, 0.20486528, 0.88557808, 0.96620038,\n",
       "       0.97720417, 0.0531247 , 0.14213755, 0.87944571, 0.80020669,\n",
       "       0.88235768, 0.39107668, 0.54249172, 0.20438615, 0.79515132,\n",
       "       0.60321661, 0.87178594, 0.04797704, 0.15066392, 0.9645467 ,\n",
       "       0.87458446, 0.63555925, 0.87907477, 0.44013464, 0.7134867 ,\n",
       "       0.05306972, 0.22807776, 0.24173787, 0.24155286])"
      ]
     },
     "execution_count": 44,
     "metadata": {},
     "output_type": "execute_result"
    }
   ],
   "source": [
    "val_lor_proba = lor.predict_proba(X_val)\n",
    "y_val_prob_lor = val_lor_proba[:, 1]\n",
    "y_val_prob_lor"
   ]
  },
  {
   "cell_type": "code",
   "execution_count": 45,
   "id": "bce70042",
   "metadata": {},
   "outputs": [
    {
     "name": "stdout",
     "output_type": "stream",
     "text": [
      "Best Threshold for maximum F1 score:  0.894\n",
      "Accuracy: 0.888\n",
      "Precision at Best F1 : 0.1527777777777778\n",
      "Recall at Best F1 : 0.5789473684210527\n",
      "Best F1 Score : 0.2417582417582418\n"
     ]
    },
    {
     "data": {
      "image/png": "[encoded data removed]",
      "text/plain": [
       "<Figure size 720x360 with 2 Axes>"
      ]
     },
     "metadata": {
      "needs_background": "light"
     },
     "output_type": "display_data"
    }
   ],
   "source": [
    "# Best threshold for F1 score and performance on validaton set\n",
    "\n",
    "lor_bestF1 = bestThreshold(y_val, y_val_prob_lor)\n",
    "performance(y_val, y_val_prob_lor, lor_bestF1)"
   ]
  },
  {
   "cell_type": "code",
   "execution_count": 46,
   "id": "9f05aa7f",
   "metadata": {},
   "outputs": [
    {
     "data": {
      "text/plain": [
       "array([0.04513708, 0.03643784, 0.04723962, ..., 0.06081127, 0.47787425,\n",
       "       0.31931657])"
      ]
     },
     "execution_count": 46,
     "metadata": {},
     "output_type": "execute_result"
    }
   ],
   "source": [
    "test_lor_proba = lor.predict_proba(X_test)\n",
    "y_test_prob_lor = test_lor_proba[:, 1]\n",
    "y_test_prob_lor"
   ]
  },
  {
   "cell_type": "code",
   "execution_count": 47,
   "id": "22e76b33",
   "metadata": {},
   "outputs": [
    {
     "name": "stdout",
     "output_type": "stream",
     "text": [
      "Accuracy: 0.875\n",
      "Precision at Best F1 : 0.22131147540983606\n",
      "Recall at Best F1 : 0.45\n",
      "Best F1 Score : 0.2967032967032967\n"
     ]
    },
    {
     "data": {
      "image/png": "[encoded data removed]",
      "text/plain": [
       "<Figure size 720x360 with 2 Axes>"
      ]
     },
     "metadata": {
      "needs_background": "light"
     },
     "output_type": "display_data"
    }
   ],
   "source": [
    "# Test set peformance: Best threshold  F1 \n",
    "\n",
    "performance(y_test, y_test_prob_lor, lor_bestF1 )"
   ]
  },
  {
   "cell_type": "markdown",
   "id": "83dc9b57",
   "metadata": {},
   "source": [
    "<b> Decision Tree <b>"
   ]
  },
  {
   "cell_type": "code",
   "execution_count": 48,
   "id": "6547e9e9",
   "metadata": {},
   "outputs": [],
   "source": [
    "#  Decision Tree\n",
    "\n",
    "dtc = DecisionTreeClassifier(criterion='gini', max_depth=3, min_samples_split=3, min_samples_leaf=1)\n",
    "dtc.fit(X_train, y_train)\n",
    "y_val_pred_dtc = dtc.predict(X_val)"
   ]
  },
  {
   "cell_type": "code",
   "execution_count": 49,
   "id": "6206e5bb",
   "metadata": {},
   "outputs": [
    {
     "name": "stdout",
     "output_type": "stream",
     "text": [
      "Accuracy :  0.49185667752442996\n",
      "Precision :  0.04923076923076923\n",
      "Recall :  0.8421052631578947\n",
      "F1 score :  0.0930232558139535\n"
     ]
    }
   ],
   "source": [
    "# Printing scores for accuracy, precision, recall and F1 with threshold 0.5\n",
    "\n",
    "print(\"Accuracy : \", metrics.accuracy_score(y_val, y_val_pred_dtc))\n",
    "print(\"Precision : \", metrics.precision_score(y_val, y_val_pred_dtc))\n",
    "print(\"Recall : \", metrics.recall_score(y_val, y_val_pred_dtc))\n",
    "print(\"F1 score : \", metrics.f1_score(y_val, y_val_pred_dtc))"
   ]
  },
  {
   "cell_type": "code",
   "execution_count": 50,
   "id": "675d208e",
   "metadata": {},
   "outputs": [
    {
     "data": {
      "text/plain": [
       "array([0.62885906, 0.01351351, 0.62885906, 0.7522604 , 0.62885906,\n",
       "       0.01351351, 0.85365854, 0.01351351, 0.01351351, 0.21116139,\n",
       "       0.01351351, 0.01351351, 0.62885906, 0.21116139, 0.32404181,\n",
       "       0.01351351, 0.01351351, 0.62885906, 0.62885906, 0.21116139,\n",
       "       0.01351351, 0.7522604 , 0.01351351, 0.01351351, 0.01351351,\n",
       "       0.21116139, 0.01351351, 0.85365854, 0.01351351, 0.85365854,\n",
       "       0.62885906, 0.85365854, 0.62885906, 0.62885906, 0.85365854,\n",
       "       0.7522604 , 0.85365854, 0.7522604 , 0.62885906, 0.62885906,\n",
       "       0.01351351, 0.32404181, 0.62885906, 0.62885906, 0.21116139,\n",
       "       0.62885906, 0.7522604 , 0.85365854, 0.85365854, 0.01351351,\n",
       "       0.62885906, 0.85365854, 0.62885906, 0.01351351, 0.01351351,\n",
       "       0.85365854, 0.32404181, 0.7522604 , 0.01351351, 0.21116139,\n",
       "       0.85365854, 0.21116139, 0.01351351, 0.32404181, 0.7522604 ,\n",
       "       0.01351351, 0.7522604 , 0.62885906, 0.7522604 , 0.62885906,\n",
       "       0.62885906, 0.21116139, 0.21116139, 0.62885906, 0.32404181,\n",
       "       0.7522604 , 0.7522604 , 0.62885906, 0.01351351, 0.7522604 ,\n",
       "       0.21116139, 0.21116139, 0.01351351, 0.01351351, 0.01351351,\n",
       "       0.62885906, 0.85365854, 0.21116139, 0.32404181, 0.62885906,\n",
       "       0.21116139, 0.01351351, 0.01351351, 0.85365854, 0.62885906,\n",
       "       0.85365854, 0.01351351, 0.7522604 , 0.7522604 , 0.62885906,\n",
       "       0.62885906, 0.7522604 , 0.62885906, 0.01351351, 0.62885906,\n",
       "       0.7522604 , 0.01351351, 0.62885906, 0.01351351, 0.01351351,\n",
       "       0.01351351, 0.85365854, 0.85365854, 0.62885906, 0.32404181,\n",
       "       0.7522604 , 0.01351351, 0.7522604 , 0.7522604 , 0.01351351,\n",
       "       0.62885906, 0.01351351, 0.01351351, 0.85365854, 0.01351351,\n",
       "       0.01351351, 0.85365854, 0.62885906, 0.62885906, 0.62885906,\n",
       "       0.85365854, 0.7522604 , 0.01351351, 0.01351351, 0.21116139,\n",
       "       0.85365854, 0.62885906, 0.85365854, 0.01351351, 0.01351351,\n",
       "       0.7522604 , 0.85365854, 0.62885906, 0.7522604 , 0.21116139,\n",
       "       0.7522604 , 0.01351351, 0.7522604 , 0.7522604 , 0.01351351,\n",
       "       0.7522604 , 0.01351351, 0.21116139, 0.01351351, 0.21116139,\n",
       "       0.01351351, 0.01351351, 0.21116139, 0.01351351, 0.01351351,\n",
       "       0.85365854, 0.62885906, 0.32404181, 0.85365854, 0.62885906,\n",
       "       0.85365854, 0.01351351, 0.01351351, 0.62885906, 0.62885906,\n",
       "       0.21116139, 0.01351351, 0.85365854, 0.01351351, 0.62885906,\n",
       "       0.21116139, 0.62885906, 0.21116139, 0.7522604 , 0.62885906,\n",
       "       0.32404181, 0.85365854, 0.01351351, 0.7522604 , 0.85365854,\n",
       "       0.7522604 , 0.62885906, 0.85365854, 0.01351351, 0.62885906,\n",
       "       0.85365854, 0.7522604 , 0.62885906, 0.01351351, 0.01351351,\n",
       "       0.85365854, 0.01351351, 0.7522604 , 0.62885906, 0.62885906,\n",
       "       0.62885906, 0.32404181, 0.01351351, 0.7522604 , 0.62885906,\n",
       "       0.01351351, 0.32404181, 0.85365854, 0.62885906, 0.01351351,\n",
       "       0.62885906, 0.01351351, 0.21116139, 0.32404181, 0.21116139,\n",
       "       0.01351351, 0.21116139, 0.21116139, 0.7522604 , 0.62885906,\n",
       "       0.62885906, 0.85365854, 0.7522604 , 0.01351351, 0.01351351,\n",
       "       0.85365854, 0.21116139, 0.62885906, 0.21116139, 0.01351351,\n",
       "       0.21116139, 0.85365854, 0.62885906, 0.32404181, 0.21116139,\n",
       "       0.7522604 , 0.85365854, 0.01351351, 0.32404181, 0.21116139,\n",
       "       0.85365854, 0.01351351, 0.62885906, 0.85365854, 0.62885906,\n",
       "       0.21116139, 0.7522604 , 0.01351351, 0.85365854, 0.62885906,\n",
       "       0.32404181, 0.7522604 , 0.85365854, 0.21116139, 0.01351351,\n",
       "       0.21116139, 0.62885906, 0.01351351, 0.62885906, 0.32404181,\n",
       "       0.62885906, 0.01351351, 0.62885906, 0.01351351, 0.62885906,\n",
       "       0.62885906, 0.7522604 , 0.62885906, 0.85365854, 0.21116139,\n",
       "       0.01351351, 0.32404181, 0.62885906, 0.01351351, 0.62885906,\n",
       "       0.7522604 , 0.62885906, 0.21116139, 0.62885906, 0.7522604 ,\n",
       "       0.01351351, 0.01351351, 0.85365854, 0.62885906, 0.85365854,\n",
       "       0.01351351, 0.01351351, 0.7522604 , 0.7522604 , 0.62885906,\n",
       "       0.01351351, 0.01351351, 0.32404181, 0.21116139, 0.62885906,\n",
       "       0.32404181, 0.62885906, 0.85365854, 0.21116139, 0.01351351,\n",
       "       0.21116139, 0.62885906, 0.32404181, 0.62885906, 0.01351351,\n",
       "       0.7522604 , 0.01351351, 0.01351351, 0.01351351, 0.01351351,\n",
       "       0.7522604 , 0.7522604 , 0.85365854, 0.85365854, 0.01351351,\n",
       "       0.62885906, 0.01351351, 0.01351351, 0.21116139, 0.62885906,\n",
       "       0.62885906, 0.62885906, 0.32404181, 0.85365854, 0.01351351,\n",
       "       0.01351351, 0.01351351, 0.85365854, 0.32404181, 0.7522604 ,\n",
       "       0.7522604 , 0.21116139, 0.01351351, 0.85365854, 0.21116139,\n",
       "       0.7522604 , 0.32404181, 0.21116139, 0.01351351, 0.01351351,\n",
       "       0.32404181, 0.62885906, 0.85365854, 0.01351351, 0.7522604 ,\n",
       "       0.01351351, 0.01351351, 0.7522604 , 0.7522604 , 0.85365854,\n",
       "       0.32404181, 0.21116139, 0.32404181, 0.01351351, 0.85365854,\n",
       "       0.62885906, 0.7522604 , 0.01351351, 0.62885906, 0.32404181,\n",
       "       0.62885906, 0.01351351, 0.62885906, 0.32404181, 0.21116139,\n",
       "       0.21116139, 0.85365854, 0.01351351, 0.85365854, 0.21116139,\n",
       "       0.21116139, 0.21116139, 0.32404181, 0.01351351, 0.85365854,\n",
       "       0.01351351, 0.21116139, 0.7522604 , 0.7522604 , 0.62885906,\n",
       "       0.7522604 , 0.62885906, 0.01351351, 0.85365854, 0.01351351,\n",
       "       0.01351351, 0.7522604 , 0.7522604 , 0.01351351, 0.01351351,\n",
       "       0.62885906, 0.7522604 , 0.62885906, 0.7522604 , 0.01351351,\n",
       "       0.85365854, 0.85365854, 0.01351351, 0.01351351, 0.21116139,\n",
       "       0.62885906, 0.01351351, 0.62885906, 0.01351351, 0.7522604 ,\n",
       "       0.01351351, 0.32404181, 0.62885906, 0.85365854, 0.01351351,\n",
       "       0.62885906, 0.85365854, 0.01351351, 0.21116139, 0.85365854,\n",
       "       0.7522604 , 0.01351351, 0.01351351, 0.62885906, 0.62885906,\n",
       "       0.62885906, 0.21116139, 0.01351351, 0.01351351, 0.01351351,\n",
       "       0.62885906, 0.21116139, 0.32404181, 0.85365854, 0.62885906,\n",
       "       0.85365854, 0.85365854, 0.7522604 , 0.01351351, 0.85365854,\n",
       "       0.7522604 , 0.62885906, 0.21116139, 0.62885906, 0.32404181,\n",
       "       0.21116139, 0.62885906, 0.62885906, 0.85365854, 0.21116139,\n",
       "       0.7522604 , 0.7522604 , 0.62885906, 0.01351351, 0.01351351,\n",
       "       0.7522604 , 0.21116139, 0.85365854, 0.85365854, 0.85365854,\n",
       "       0.62885906, 0.01351351, 0.01351351, 0.21116139, 0.62885906,\n",
       "       0.7522604 , 0.85365854, 0.62885906, 0.85365854, 0.01351351,\n",
       "       0.85365854, 0.01351351, 0.01351351, 0.62885906, 0.01351351,\n",
       "       0.7522604 , 0.7522604 , 0.32404181, 0.85365854, 0.62885906,\n",
       "       0.21116139, 0.85365854, 0.62885906, 0.7522604 , 0.32404181,\n",
       "       0.85365854, 0.21116139, 0.7522604 , 0.21116139, 0.01351351,\n",
       "       0.21116139, 0.01351351, 0.01351351, 0.7522604 , 0.21116139,\n",
       "       0.85365854, 0.7522604 , 0.85365854, 0.01351351, 0.01351351,\n",
       "       0.85365854, 0.85365854, 0.85365854, 0.85365854, 0.01351351,\n",
       "       0.85365854, 0.7522604 , 0.01351351, 0.7522604 , 0.85365854,\n",
       "       0.32404181, 0.32404181, 0.01351351, 0.62885906, 0.85365854,\n",
       "       0.62885906, 0.62885906, 0.01351351, 0.01351351, 0.85365854,\n",
       "       0.62885906, 0.21116139, 0.01351351, 0.21116139, 0.21116139,\n",
       "       0.62885906, 0.62885906, 0.62885906, 0.01351351, 0.21116139,\n",
       "       0.21116139, 0.21116139, 0.01351351, 0.32404181, 0.32404181,\n",
       "       0.01351351, 0.01351351, 0.85365854, 0.62885906, 0.62885906,\n",
       "       0.32404181, 0.62885906, 0.01351351, 0.7522604 , 0.85365854,\n",
       "       0.01351351, 0.32404181, 0.7522604 , 0.7522604 , 0.62885906,\n",
       "       0.01351351, 0.62885906, 0.21116139, 0.62885906, 0.62885906,\n",
       "       0.7522604 , 0.01351351, 0.62885906, 0.21116139, 0.85365854,\n",
       "       0.62885906, 0.7522604 , 0.01351351, 0.85365854, 0.7522604 ,\n",
       "       0.21116139, 0.21116139, 0.7522604 , 0.7522604 , 0.32404181,\n",
       "       0.21116139, 0.01351351, 0.85365854, 0.62885906, 0.85365854,\n",
       "       0.85365854, 0.62885906, 0.85365854, 0.62885906, 0.01351351,\n",
       "       0.62885906, 0.01351351, 0.62885906, 0.21116139, 0.32404181,\n",
       "       0.01351351, 0.62885906, 0.85365854, 0.21116139, 0.85365854,\n",
       "       0.21116139, 0.32404181, 0.01351351, 0.85365854, 0.85365854,\n",
       "       0.85365854, 0.01351351, 0.01351351, 0.7522604 , 0.62885906,\n",
       "       0.7522604 , 0.62885906, 0.32404181, 0.21116139, 0.7522604 ,\n",
       "       0.62885906, 0.85365854, 0.01351351, 0.01351351, 0.7522604 ,\n",
       "       0.7522604 , 0.7522604 , 0.85365854, 0.62885906, 0.85365854,\n",
       "       0.01351351, 0.21116139, 0.21116139, 0.21116139])"
      ]
     },
     "execution_count": 50,
     "metadata": {},
     "output_type": "execute_result"
    }
   ],
   "source": [
    "val_dtc_proba = dtc.predict_proba(X_val)\n",
    "y_val_prob_dtc = val_dtc_proba[:, 1]\n",
    "y_val_prob_dtc"
   ]
  },
  {
   "cell_type": "code",
   "execution_count": 51,
   "id": "3d85114c",
   "metadata": {},
   "outputs": [
    {
     "name": "stdout",
     "output_type": "stream",
     "text": [
      "Best Threshold for maximum F1 score:  0.894\n",
      "Accuracy: 0.888\n",
      "Precision at Best F1 : 0.1527777777777778\n",
      "Recall at Best F1 : 0.5789473684210527\n",
      "Best F1 Score : 0.2417582417582418\n"
     ]
    },
    {
     "data": {
      "image/png": "[encoded data removed]",
      "text/plain": [
       "<Figure size 720x360 with 2 Axes>"
      ]
     },
     "metadata": {
      "needs_background": "light"
     },
     "output_type": "display_data"
    }
   ],
   "source": [
    "# Best threshold for F1 score and performance on validaton set\n",
    "\n",
    "dtc_bestF1 = bestThreshold(y_val, y_val_prob_lor)\n",
    "performance(y_val, y_val_prob_lor, dtc_bestF1)"
   ]
  },
  {
   "cell_type": "code",
   "execution_count": 52,
   "id": "5de0846e",
   "metadata": {},
   "outputs": [
    {
     "data": {
      "text/plain": [
       "array([0.01351351, 0.01351351, 0.01351351, ..., 0.01351351, 0.62885906,\n",
       "       0.62885906])"
      ]
     },
     "execution_count": 52,
     "metadata": {},
     "output_type": "execute_result"
    }
   ],
   "source": [
    "test_dtc_proba = dtc.predict_proba(X_test)\n",
    "y_test_prob_dtc = test_dtc_proba[:, 1]\n",
    "y_test_prob_dtc"
   ]
  },
  {
   "cell_type": "code",
   "execution_count": 53,
   "id": "772326dc",
   "metadata": {},
   "outputs": [
    {
     "name": "stdout",
     "output_type": "stream",
     "text": [
      "Accuracy: 0.941\n",
      "Precision at Best F1 : 0.0\n",
      "Recall at Best F1 : 0.0\n",
      "Best F1 Score : nan\n"
     ]
    },
    {
     "data": {
      "image/png": "[encoded data removed]",
      "text/plain": [
       "<Figure size 720x360 with 2 Axes>"
      ]
     },
     "metadata": {
      "needs_background": "light"
     },
     "output_type": "display_data"
    }
   ],
   "source": [
    "# Test set peformance: Best threshold  F1\n",
    "\n",
    "performance(y_test, y_test_prob_dtc, dtc_bestF1)"
   ]
  },
  {
   "cell_type": "markdown",
   "id": "0f96d9db",
   "metadata": {},
   "source": [
    "<b> Random Forest <b>"
   ]
  },
  {
   "cell_type": "code",
   "execution_count": 54,
   "id": "9e28f131",
   "metadata": {},
   "outputs": [],
   "source": [
    "# Random Forest\n",
    "\n",
    "rfc =  RandomForestClassifier(n_estimators=50, max_depth=3, min_samples_split=4, min_samples_leaf = 1)\n",
    "rfc.fit(X_train, y_train)\n",
    "y_val_pred_rfc = rfc.predict(X_val)"
   ]
  },
  {
   "cell_type": "code",
   "execution_count": 55,
   "id": "307ad47d",
   "metadata": {},
   "outputs": [
    {
     "name": "stdout",
     "output_type": "stream",
     "text": [
      "Accuracy :  0.48859934853420195\n",
      "Precision :  0.054380664652567974\n",
      "Recall :  0.9473684210526315\n",
      "F1 score :  0.10285714285714284\n"
     ]
    }
   ],
   "source": [
    "# Printing scores for accuracy, precision, recall and F1 with threshold 0.5\n",
    "print(\"Accuracy : \", metrics.accuracy_score(y_val, y_val_pred_rfc))\n",
    "print(\"Precision : \", metrics.precision_score(y_val, y_val_pred_rfc))\n",
    "print(\"Recall : \", metrics.recall_score(y_val, y_val_pred_rfc))\n",
    "print(\"F1 score : \", metrics.f1_score(y_val, y_val_pred_rfc))"
   ]
  },
  {
   "cell_type": "code",
   "execution_count": 56,
   "id": "a85767c2",
   "metadata": {},
   "outputs": [
    {
     "data": {
      "text/plain": [
       "array([0.5740524 , 0.03853748, 0.56470218, 0.69610374, 0.69025077,\n",
       "       0.03854593, 0.73520649, 0.03000315, 0.18732933, 0.19802314,\n",
       "       0.18122486, 0.24192381, 0.63598897, 0.23562886, 0.53569519,\n",
       "       0.03995384, 0.04569299, 0.52813504, 0.54725917, 0.23232144,\n",
       "       0.18682003, 0.6543932 , 0.03104913, 0.02442634, 0.17185684,\n",
       "       0.21784264, 0.19656603, 0.74959172, 0.16719225, 0.72450172,\n",
       "       0.56121498, 0.61418677, 0.65836226, 0.51001126, 0.71263886,\n",
       "       0.5949044 , 0.60162028, 0.59137275, 0.57327632, 0.69313254,\n",
       "       0.18971213, 0.50009357, 0.62206872, 0.49207828, 0.24596558,\n",
       "       0.5818317 , 0.57748784, 0.67375013, 0.61867303, 0.05354717,\n",
       "       0.6596829 , 0.70543168, 0.62354511, 0.03423469, 0.03423469,\n",
       "       0.75989548, 0.46247007, 0.60979519, 0.17987271, 0.26138339,\n",
       "       0.61809415, 0.27942499, 0.17247186, 0.46448674, 0.60129272,\n",
       "       0.17962989, 0.60418472, 0.56631522, 0.69834085, 0.58811309,\n",
       "       0.50810119, 0.26561812, 0.26991342, 0.60797518, 0.54309014,\n",
       "       0.67036661, 0.59962245, 0.68428585, 0.19390531, 0.60432403,\n",
       "       0.24576363, 0.27942499, 0.16719225, 0.1854564 , 0.07088662,\n",
       "       0.56054036, 0.66788151, 0.23801166, 0.53569519, 0.51997908,\n",
       "       0.22693093, 0.04569299, 0.19299816, 0.67693835, 0.56895216,\n",
       "       0.6851288 , 0.02963277, 0.58687431, 0.69334818, 0.52060655,\n",
       "       0.56121498, 0.59079387, 0.58094183, 0.03685953, 0.70997009,\n",
       "       0.59246414, 0.10073456, 0.57494042, 0.16796464, 0.24325032,\n",
       "       0.07438069, 0.7246475 , 0.72900556, 0.58408929, 0.50984967,\n",
       "       0.68060004, 0.18682003, 0.59137275, 0.71201615, 0.17142379,\n",
       "       0.53637964, 0.16169596, 0.18122486, 0.61418677, 0.19398613,\n",
       "       0.15977598, 0.62222269, 0.58203323, 0.66359029, 0.66317387,\n",
       "       0.68366361, 0.60748442, 0.19216589, 0.07486767, 0.24596558,\n",
       "       0.61829467, 0.480932  , 0.6995877 , 0.06399354, 0.1049661 ,\n",
       "       0.61614283, 0.71887862, 0.51161002, 0.59928416, 0.25960549,\n",
       "       0.60840308, 0.0258427 , 0.60932281, 0.59713027, 0.02442634,\n",
       "       0.6288675 , 0.03951237, 0.3161137 , 0.04068097, 0.26561812,\n",
       "       0.24461395, 0.02963277, 0.27990855, 0.17040308, 0.16942819,\n",
       "       0.71076099, 0.48128366, 0.4832169 , 0.60425462, 0.66604283,\n",
       "       0.72659573, 0.07198944, 0.09512635, 0.6076718 , 0.58301284,\n",
       "       0.25838937, 0.16428253, 0.71567553, 0.16685157, 0.67486608,\n",
       "       0.26116715, 0.67996633, 0.26398261, 0.6016625 , 0.55564754,\n",
       "       0.51869564, 0.62132692, 0.04605959, 0.65600651, 0.63273372,\n",
       "       0.59571506, 0.67887493, 0.61418677, 0.16698975, 0.5751438 ,\n",
       "       0.63106344, 0.61862377, 0.57837657, 0.16942819, 0.14383089,\n",
       "       0.70141465, 0.02540123, 0.67526826, 0.61688125, 0.54939819,\n",
       "       0.68293276, 0.46040378, 0.16402294, 0.57439502, 0.56953846,\n",
       "       0.16209997, 0.51442784, 0.61585705, 0.48128366, 0.18218388,\n",
       "       0.5068823 , 0.08044129, 0.31517462, 0.46883529, 0.27202414,\n",
       "       0.04208888, 0.23759041, 0.26578508, 0.59962245, 0.53501079,\n",
       "       0.480932  , 0.61248617, 0.5907817 , 0.16407876, 0.03853748,\n",
       "       0.61585705, 0.19802314, 0.48128366, 0.24865866, 0.19758519,\n",
       "       0.23801166, 0.71820711, 0.56895216, 0.52686661, 0.26116715,\n",
       "       0.60129272, 0.75161882, 0.18267862, 0.51540273, 0.31179758,\n",
       "       0.60702847, 0.18355258, 0.58203323, 0.63164232, 0.45767293,\n",
       "       0.23562886, 0.60727754, 0.0447181 , 0.71640465, 0.65592851,\n",
       "       0.51094107, 0.58687431, 0.76410589, 0.28098664, 0.04048656,\n",
       "       0.2634351 , 0.49391302, 0.04226043, 0.57123642, 0.59649555,\n",
       "       0.57014502, 0.1049661 , 0.54284473, 0.03588464, 0.56390872,\n",
       "       0.5642554 , 0.5907817 , 0.50882047, 0.60816201, 0.27223485,\n",
       "       0.17247186, 0.49939138, 0.56613617, 0.17198243, 0.67996633,\n",
       "       0.60129272, 0.55276471, 0.22693093, 0.65940138, 0.61762221,\n",
       "       0.17066963, 0.02902826, 0.61908982, 0.76855315, 0.80630918,\n",
       "       0.20407969, 0.12268742, 0.5949044 , 0.60129272, 0.56121498,\n",
       "       0.22869106, 0.07186151, 0.52686661, 0.26351288, 0.65807362,\n",
       "       0.46955843, 0.48719814, 0.70536747, 0.21798994, 0.02540123,\n",
       "       0.27141371, 0.58515421, 0.48712429, 0.56504477, 0.22496591,\n",
       "       0.60129272, 0.25065478, 0.02442634, 0.0332598 , 0.04068097,\n",
       "       0.59738534, 0.59462366, 0.5977401 , 0.71887862, 0.10073456,\n",
       "       0.47786296, 0.09330433, 0.02865788, 0.23433178, 0.66302616,\n",
       "       0.4754662 , 0.5558736 , 0.55302623, 0.75661418, 0.0268176 ,\n",
       "       0.02963277, 0.1590761 , 0.72450172, 0.56998387, 0.57804573,\n",
       "       0.69189334, 0.231554  , 0.17040308, 0.72962364, 0.23790846,\n",
       "       0.61221481, 0.5317878 , 0.19995314, 0.18588845, 0.21270206,\n",
       "       0.51333644, 0.5068823 , 0.61476565, 0.23043495, 0.58490605,\n",
       "       0.18122486, 0.12002061, 0.58578291, 0.59853105, 0.82520024,\n",
       "       0.46339535, 0.25254334, 0.48739523, 0.05696631, 0.61553299,\n",
       "       0.48288241, 0.60129272, 0.02963277, 0.5468882 , 0.59983757,\n",
       "       0.50845796, 0.04209733, 0.5751438 , 0.57419399, 0.26239133,\n",
       "       0.21831888, 0.61829467, 0.17564117, 0.77631893, 0.19696092,\n",
       "       0.21149934, 0.24987297, 0.47303172, 0.07459409, 0.61762375,\n",
       "       0.17564117, 0.25965717, 0.57316002, 0.69610374, 0.68063784,\n",
       "       0.60129272, 0.54538934, 0.24711018, 0.61248617, 0.22094191,\n",
       "       0.02902826, 0.60541542, 0.6472349 , 0.17962989, 0.20189754,\n",
       "       0.60215819, 0.59146095, 0.51391865, 0.59980654, 0.13510762,\n",
       "       0.7015243 , 0.62545546, 0.21572068, 0.18365072, 0.23801166,\n",
       "       0.58702169, 0.03104913, 0.64260754, 0.19499451, 0.67150212,\n",
       "       0.20034349, 0.4771161 , 0.54784351, 0.70536747, 0.04306377,\n",
       "       0.52247632, 0.61585705, 0.04286483, 0.23562886, 0.6092534 ,\n",
       "       0.5907817 , 0.14254336, 0.22496591, 0.52544488, 0.56079479,\n",
       "       0.49551177, 0.27546986, 0.16169596, 0.04265141, 0.18218388,\n",
       "       0.5770856 , 0.25705648, 0.5306964 , 0.72450172, 0.67170621,\n",
       "       0.60825113, 0.72768713, 0.58864101, 0.07556898, 0.61985716,\n",
       "       0.61269938, 0.56954733, 0.29674067, 0.56470218, 0.5317878 ,\n",
       "       0.2604085 , 0.47503999, 0.5457968 , 0.60534602, 0.26269173,\n",
       "       0.57804573, 0.58490605, 0.55054257, 0.06031394, 0.02902826,\n",
       "       0.59962245, 0.26847816, 0.80434775, 0.71681256, 0.81130065,\n",
       "       0.47457933, 0.04208888, 0.19103741, 0.21726934, 0.60381488,\n",
       "       0.59881178, 0.72215993, 0.51713095, 0.60534602, 0.16825448,\n",
       "       0.72571394, 0.18355258, 0.13131756, 0.61602286, 0.04822822,\n",
       "       0.61862377, 0.59962245, 0.46288799, 0.71820711, 0.45767293,\n",
       "       0.21971675, 0.74231807, 0.64907326, 0.71218246, 0.58268473,\n",
       "       0.66458299, 0.26128802, 0.66591032, 0.27137111, 0.1854564 ,\n",
       "       0.23366237, 0.07069291, 0.21812622, 0.61834765, 0.27222499,\n",
       "       0.72450172, 0.5907817 , 0.583433  , 0.0436263 , 0.077729  ,\n",
       "       0.70499015, 0.72874495, 0.75391556, 0.61093585, 0.1968306 ,\n",
       "       0.63596649, 0.72115992, 0.03044463, 0.60418472, 0.72450172,\n",
       "       0.5306964 , 0.58555323, 0.02963277, 0.67553759, 0.72106853,\n",
       "       0.58203323, 0.48415603, 0.11038141, 0.17987271, 0.71887862,\n",
       "       0.58113207, 0.231554  , 0.23473367, 0.21573088, 0.21573088,\n",
       "       0.46337388, 0.61974761, 0.49442037, 0.03000315, 0.25960549,\n",
       "       0.25660529, 0.23010025, 0.16825448, 0.53569519, 0.5306964 ,\n",
       "       0.22869106, 0.16238783, 0.76045356, 0.54764722, 0.68994714,\n",
       "       0.53598552, 0.52106603, 0.07389278, 0.59658685, 0.61829467,\n",
       "       0.13582366, 0.5317878 , 0.61031757, 0.60979519, 0.50969995,\n",
       "       0.18228708, 0.50738966, 0.24400248, 0.48809556, 0.63118902,\n",
       "       0.61614283, 0.13060951, 0.45797513, 0.28551045, 0.68953199,\n",
       "       0.64220535, 0.60811274, 0.05599142, 0.72215993, 0.60418472,\n",
       "       0.25532112, 0.35407183, 0.60374515, 0.60765253, 0.53569519,\n",
       "       0.26847816, 0.16505365, 0.69249219, 0.48196844, 0.71763692,\n",
       "       0.60857879, 0.678723  , 0.61662439, 0.50700979, 0.17164452,\n",
       "       0.52157783, 0.18840511, 0.5751438 , 0.27812661, 0.53460379,\n",
       "       0.18650446, 0.48969432, 0.70703775, 0.25009153, 0.61976443,\n",
       "       0.26424662, 0.47303172, 0.14281325, 0.72283145, 0.77070802,\n",
       "       0.80434775, 0.06733522, 0.20271605, 0.60979519, 0.68246584,\n",
       "       0.61862377, 0.480932  , 0.53460379, 0.26116715, 0.59738534,\n",
       "       0.54784351, 0.70141465, 0.04688295, 0.23937375, 0.65192613,\n",
       "       0.59246414, 0.5907817 , 0.72215993, 0.55667209, 0.60992501,\n",
       "       0.10918348, 0.23801166, 0.33202581, 0.23801166])"
      ]
     },
     "execution_count": 56,
     "metadata": {},
     "output_type": "execute_result"
    }
   ],
   "source": [
    "val_rfc_proba = rfc.predict_proba(X_val)\n",
    "y_val_prob_rfc = val_rfc_proba[:, 1]\n",
    "y_val_prob_rfc"
   ]
  },
  {
   "cell_type": "code",
   "execution_count": 57,
   "id": "b730d061",
   "metadata": {},
   "outputs": [
    {
     "name": "stdout",
     "output_type": "stream",
     "text": [
      "Best Threshold for maximum F1 score:  0.716\n",
      "Accuracy: 0.915\n",
      "Precision at Best F1 : 0.11627906976744186\n",
      "Recall at Best F1 : 0.2631578947368421\n",
      "Best F1 Score : 0.16129032258064516\n"
     ]
    },
    {
     "data": {
      "image/png": "[encoded data removed]",
      "text/plain": [
       "<Figure size 720x360 with 2 Axes>"
      ]
     },
     "metadata": {
      "needs_background": "light"
     },
     "output_type": "display_data"
    }
   ],
   "source": [
    "# Best threshold for F1 score and performance on validaton set\n",
    "\n",
    "rfc_bestF1 = bestThreshold(y_val, y_val_prob_rfc)\n",
    "performance(y_val, y_val_prob_rfc, rfc_bestF1)"
   ]
  },
  {
   "cell_type": "code",
   "execution_count": 58,
   "id": "f54777db",
   "metadata": {},
   "outputs": [
    {
     "data": {
      "text/plain": [
       "array([0.04112244, 0.05175989, 0.02865788, ..., 0.05175989, 0.52872095,\n",
       "       0.48128366])"
      ]
     },
     "execution_count": 58,
     "metadata": {},
     "output_type": "execute_result"
    }
   ],
   "source": [
    "test_rfc_proba = rfc.predict_proba(X_test)\n",
    "y_test_prob_rfc = test_rfc_proba[:, 1]\n",
    "y_test_prob_rfc"
   ]
  },
  {
   "cell_type": "code",
   "execution_count": 59,
   "id": "a3bcf711",
   "metadata": {},
   "outputs": [
    {
     "name": "stdout",
     "output_type": "stream",
     "text": [
      "Accuracy: 0.888\n",
      "Precision at Best F1 : 0.20652173913043478\n",
      "Recall at Best F1 : 0.31666666666666665\n",
      "Best F1 Score : 0.25\n"
     ]
    },
    {
     "data": {
      "image/png": "[encoded data removed]",
      "text/plain": [
       "<Figure size 720x360 with 2 Axes>"
      ]
     },
     "metadata": {
      "needs_background": "light"
     },
     "output_type": "display_data"
    }
   ],
   "source": [
    "# Test set peformance: Best threshold  F1 \n",
    "\n",
    "performance(y_test, y_test_prob_rfc, rfc_bestF1)"
   ]
  },
  {
   "cell_type": "markdown",
   "id": "5ecd6a56",
   "metadata": {},
   "source": [
    "<b> XGBoost <b>"
   ]
  },
  {
   "cell_type": "code",
   "execution_count": 60,
   "id": "e53b4e56",
   "metadata": {},
   "outputs": [],
   "source": [
    "# XGBoost \n",
    "\n",
    "xgb = XGBClassifier(booster = 'gbtree', learning_rate = 0.2,  max_depth = 3, min_child_weight = 4, n_estimators  = 100)\n",
    "xgb.fit(X_train, y_train)\n",
    "y_val_pred_xgb = xgb.predict(X_val)"
   ]
  },
  {
   "cell_type": "code",
   "execution_count": 61,
   "id": "a0693b7e",
   "metadata": {},
   "outputs": [
    {
     "name": "stdout",
     "output_type": "stream",
     "text": [
      "Accuracy :  0.737785016286645\n",
      "Precision :  0.05625\n",
      "Recall :  0.47368421052631576\n",
      "F1 score :  0.1005586592178771\n"
     ]
    }
   ],
   "source": [
    "# Printing scores for accuracy, precision, recall and F1 with threshold 0.5\n",
    "print(\"Accuracy : \", metrics.accuracy_score(y_val, y_val_pred_xgb))\n",
    "print(\"Precision : \", metrics.precision_score(y_val, y_val_pred_xgb))\n",
    "print(\"Recall : \", metrics.recall_score(y_val, y_val_pred_xgb))\n",
    "print(\"F1 score : \", metrics.f1_score(y_val, y_val_pred_xgb))"
   ]
  },
  {
   "cell_type": "code",
   "execution_count": 62,
   "id": "a87b0886",
   "metadata": {},
   "outputs": [
    {
     "data": {
      "text/plain": [
       "array([6.78817153e-01, 2.98074214e-03, 3.70944083e-01, 7.87746072e-01,\n",
       "       4.77646738e-01, 1.98925799e-03, 5.62546790e-01, 4.13316506e-04,\n",
       "       9.00347997e-03, 3.64418253e-02, 1.21001888e-03, 2.25282721e-02,\n",
       "       4.02316898e-02, 4.70763594e-02, 3.32985967e-01, 5.70106134e-03,\n",
       "       2.30093766e-03, 6.05080366e-01, 6.83031827e-02, 4.31910791e-02,\n",
       "       1.33705884e-02, 1.68648228e-01, 3.02909000e-04, 1.49806775e-03,\n",
       "       2.99105770e-04, 8.07479247e-02, 4.54469398e-02, 5.08826733e-01,\n",
       "       2.56600732e-04, 7.44657040e-01, 9.39358249e-02, 5.69034040e-01,\n",
       "       3.43420744e-01, 4.61541861e-02, 4.77598786e-01, 2.09523112e-01,\n",
       "       5.61590254e-01, 3.15018177e-01, 5.36622286e-01, 7.00215101e-01,\n",
       "       9.56199598e-04, 5.67753434e-01, 1.17981724e-01, 8.37576240e-02,\n",
       "       3.31274047e-02, 5.41981578e-01, 4.91242260e-01, 5.63326955e-01,\n",
       "       6.90959632e-01, 3.37825762e-03, 5.37757754e-01, 6.28371656e-01,\n",
       "       2.46840447e-01, 6.62178500e-04, 3.83408013e-04, 8.05537879e-01,\n",
       "       4.15352322e-02, 5.15885472e-01, 2.82293232e-03, 9.95177496e-03,\n",
       "       4.18184280e-01, 2.12080926e-01, 1.79896061e-03, 4.76122871e-02,\n",
       "       7.49996185e-01, 2.89719389e-03, 8.67162943e-01, 5.49740732e-01,\n",
       "       2.25281745e-01, 5.26018560e-01, 4.78884697e-01, 2.71404423e-02,\n",
       "       1.09763034e-01, 1.38265774e-01, 1.88607216e-01, 6.98699415e-01,\n",
       "       4.74219263e-01, 3.11827958e-01, 1.44217620e-02, 7.66493142e-01,\n",
       "       1.46939252e-02, 3.80581975e-01, 4.39413590e-04, 5.15148335e-04,\n",
       "       1.51410862e-03, 1.84158817e-01, 4.36447114e-01, 2.83912152e-01,\n",
       "       3.37994307e-01, 4.82726246e-01, 8.16383660e-02, 2.30093766e-03,\n",
       "       3.10395211e-02, 7.30165780e-01, 1.88087896e-01, 3.83905411e-01,\n",
       "       2.05333985e-04, 2.09665671e-01, 4.79904234e-01, 4.19417977e-01,\n",
       "       1.24155149e-01, 3.94257158e-01, 6.41236782e-01, 1.44593464e-03,\n",
       "       5.20133615e-01, 3.15923870e-01, 2.54704384e-03, 4.59737927e-01,\n",
       "       5.11231832e-04, 3.63243348e-03, 4.75842302e-04, 8.65083575e-01,\n",
       "       5.16744256e-01, 1.51078418e-01, 2.08335802e-01, 2.60706633e-01,\n",
       "       1.09639426e-03, 2.38890946e-01, 6.63462639e-01, 1.86610257e-03,\n",
       "       1.43330127e-01, 3.31718032e-03, 2.12184014e-03, 3.63912821e-01,\n",
       "       7.51968985e-03, 1.71695463e-03, 7.11805046e-01, 5.87616086e-01,\n",
       "       3.21552902e-01, 2.21469313e-01, 8.17045212e-01, 7.94342160e-01,\n",
       "       4.84721560e-04, 3.32364067e-03, 9.33039933e-02, 8.39201510e-01,\n",
       "       3.95395011e-01, 3.03576857e-01, 9.89284308e-05, 2.54634256e-03,\n",
       "       6.71930850e-01, 7.82606483e-01, 4.97265249e-01, 6.92191362e-01,\n",
       "       1.03252888e-01, 6.03628099e-01, 7.30896776e-04, 8.04363132e-01,\n",
       "       5.38945086e-02, 5.25339914e-04, 8.94101918e-01, 9.39510530e-04,\n",
       "       3.86650972e-02, 1.29752106e-03, 3.67717966e-02, 2.41320697e-03,\n",
       "       6.87673310e-05, 9.59531590e-02, 2.57831183e-03, 6.20133337e-03,\n",
       "       3.04565847e-01, 1.82329640e-01, 9.43660513e-02, 4.74594682e-01,\n",
       "       1.56260923e-01, 8.46802950e-01, 2.23744864e-04, 2.28058430e-03,\n",
       "       2.20446765e-01, 3.70117903e-01, 2.11237725e-02, 8.74486403e-04,\n",
       "       4.81220722e-01, 5.59340604e-03, 7.57501364e-01, 8.45933035e-02,\n",
       "       3.23513508e-01, 1.60814095e-02, 6.95593297e-01, 3.63201588e-01,\n",
       "       4.69634205e-01, 7.73906887e-01, 1.17608663e-02, 2.52581596e-01,\n",
       "       8.21919501e-01, 2.58627206e-01, 7.22023785e-01, 5.35110056e-01,\n",
       "       7.65535142e-03, 2.66589016e-01, 7.51286864e-01, 8.79410207e-01,\n",
       "       4.97521937e-01, 3.04839597e-03, 6.18599169e-03, 5.27446926e-01,\n",
       "       5.78452782e-05, 4.47109282e-01, 2.68134683e-01, 3.65096450e-01,\n",
       "       6.02996767e-01, 1.01904580e-02, 9.70532070e-04, 1.80910945e-01,\n",
       "       5.87773994e-02, 5.41782938e-03, 5.98394610e-02, 1.59747303e-01,\n",
       "       1.17374957e-01, 3.79118661e-04, 2.47862354e-01, 5.13619801e-04,\n",
       "       4.34157550e-02, 2.48815436e-02, 1.17414415e-01, 2.81730713e-03,\n",
       "       4.69300449e-02, 6.61757514e-02, 5.13415456e-01, 3.75912994e-01,\n",
       "       3.87105763e-01, 7.80388355e-01, 4.84172046e-01, 2.35508638e-03,\n",
       "       1.39550604e-02, 3.65826577e-01, 1.87318176e-02, 3.24407548e-01,\n",
       "       1.12547718e-01, 1.83142384e-03, 4.99314740e-02, 3.72380704e-01,\n",
       "       5.18032789e-01, 2.02593923e-01, 5.48590831e-02, 4.47162479e-01,\n",
       "       8.69051099e-01, 1.62354042e-03, 8.08454379e-02, 4.48973402e-02,\n",
       "       7.84314334e-01, 1.85250200e-03, 4.61343259e-01, 9.23058629e-01,\n",
       "       1.03249572e-01, 9.53538865e-02, 8.17625940e-01, 6.59046788e-03,\n",
       "       3.78503501e-01, 5.08072913e-01, 2.27978706e-01, 4.54806238e-01,\n",
       "       9.21534419e-01, 4.72412892e-02, 2.32010963e-03, 2.33021080e-02,\n",
       "       1.86125070e-01, 2.69385404e-03, 3.81539077e-01, 2.01693103e-01,\n",
       "       2.89558440e-01, 3.32919764e-03, 2.55843818e-01, 9.20399092e-04,\n",
       "       5.80069542e-01, 4.12008166e-01, 6.72097206e-01, 6.33588970e-01,\n",
       "       3.55505347e-01, 1.18464969e-01, 2.77230516e-04, 6.75041322e-03,\n",
       "       4.00272936e-01, 2.27151252e-02, 6.18323803e-01, 7.32608497e-01,\n",
       "       5.10320723e-01, 2.48426255e-02, 2.06989005e-01, 6.00062490e-01,\n",
       "       4.89860214e-03, 7.01704121e-04, 6.27759993e-01, 6.77272797e-01,\n",
       "       8.75862479e-01, 2.81671472e-02, 3.45953013e-05, 5.67383766e-01,\n",
       "       6.60967708e-01, 7.53405750e-01, 1.93108874e-03, 5.76155214e-03,\n",
       "       1.04666263e-01, 1.44840881e-01, 4.73712422e-02, 2.10030749e-01,\n",
       "       3.71156968e-02, 1.11549377e-01, 4.35649194e-02, 6.88449582e-05,\n",
       "       1.65941954e-01, 3.71291786e-01, 6.15589730e-02, 3.46260756e-01,\n",
       "       2.76945462e-03, 6.15861058e-01, 2.52190512e-02, 6.30214636e-04,\n",
       "       8.00529728e-04, 2.38560591e-04, 5.10756493e-01, 2.08447739e-01,\n",
       "       2.65304178e-01, 6.79557860e-01, 1.20029936e-03, 1.20889440e-01,\n",
       "       6.25747889e-02, 1.97791916e-04, 3.81315947e-02, 7.07699239e-01,\n",
       "       2.69605041e-01, 4.46027666e-01, 1.12120099e-01, 8.15003514e-01,\n",
       "       3.02909000e-04, 2.47302669e-04, 1.16893393e-03, 7.83638597e-01,\n",
       "       7.95269907e-02, 8.29321146e-02, 1.72751829e-01, 4.04427111e-01,\n",
       "       2.43226043e-03, 9.36523736e-01, 3.44810098e-01, 8.60402286e-01,\n",
       "       1.69029310e-01, 7.57165179e-02, 3.21221701e-03, 3.08856438e-03,\n",
       "       8.12286418e-03, 1.96193159e-01, 7.55471230e-01, 3.41329463e-02,\n",
       "       6.50506794e-01, 1.94571773e-03, 5.70805278e-03, 2.50926942e-01,\n",
       "       4.94591594e-01, 8.92351568e-01, 3.36963236e-02, 5.90895908e-03,\n",
       "       5.00887513e-01, 4.07175830e-04, 6.69014633e-01, 2.03944787e-01,\n",
       "       2.53433675e-01, 6.87673310e-05, 2.39558265e-01, 4.49460633e-02,\n",
       "       9.99950618e-02, 3.22806212e-04, 5.00333965e-01, 1.41866252e-01,\n",
       "       8.41974281e-03, 1.80796415e-01, 8.00543427e-01, 7.99082126e-03,\n",
       "       8.25609982e-01, 6.43115211e-03, 2.37405747e-02, 1.43590644e-01,\n",
       "       6.15144484e-02, 2.02861396e-04, 6.10434413e-01, 1.10548502e-03,\n",
       "       1.93114564e-01, 8.27953443e-02, 2.72428632e-01, 2.69421875e-01,\n",
       "       2.84935445e-01, 6.25734627e-02, 1.82113622e-03, 7.66168237e-01,\n",
       "       5.87871904e-03, 4.19363147e-04, 6.55160785e-01, 2.17077672e-01,\n",
       "       3.50410715e-02, 8.22995976e-02, 1.55264869e-01, 4.39389676e-01,\n",
       "       3.10438067e-01, 6.63545370e-01, 7.45361831e-05, 2.72991508e-01,\n",
       "       8.08735251e-01, 2.09146831e-03, 1.83241442e-03, 6.45591021e-02,\n",
       "       5.67081511e-01, 2.54808605e-04, 3.52602422e-01, 4.24627820e-03,\n",
       "       2.76794732e-01, 6.04308676e-04, 5.97998016e-02, 1.22186050e-01,\n",
       "       2.41652191e-01, 2.40212379e-04, 3.78624164e-02, 5.18353760e-01,\n",
       "       5.24497777e-03, 4.66805696e-02, 7.40400434e-01, 4.23318416e-01,\n",
       "       1.73487715e-04, 6.45454554e-03, 5.74797809e-01, 7.10686088e-01,\n",
       "       2.38111302e-01, 1.98464528e-01, 6.91072643e-03, 9.20399092e-04,\n",
       "       1.36230001e-03, 5.06321669e-01, 6.24979138e-02, 2.03267515e-01,\n",
       "       9.18516159e-01, 5.06530404e-01, 7.17202783e-01, 6.76636875e-01,\n",
       "       4.47854280e-01, 1.99935865e-04, 8.30644727e-01, 8.88052702e-01,\n",
       "       2.17991099e-02, 4.61867377e-02, 4.17076349e-01, 1.59728736e-01,\n",
       "       9.95177496e-03, 1.73176646e-01, 2.78890550e-01, 1.71435326e-01,\n",
       "       4.84331474e-02, 4.53794040e-02, 2.48255879e-01, 3.73510003e-01,\n",
       "       3.00339912e-03, 9.25030094e-04, 5.08530080e-01, 5.88022806e-02,\n",
       "       8.42479765e-01, 7.49990523e-01, 8.56435776e-01, 2.25928411e-01,\n",
       "       9.60969774e-04, 2.68465746e-03, 2.42711566e-02, 3.29268388e-02,\n",
       "       6.64349258e-01, 6.85788214e-01, 1.77444860e-01, 5.47437072e-01,\n",
       "       5.42742840e-04, 8.46154213e-01, 9.33650881e-03, 7.05134706e-04,\n",
       "       9.68540758e-02, 7.93532876e-04, 6.51862025e-01, 1.74404815e-01,\n",
       "       3.05842459e-01, 8.14148784e-01, 7.87580460e-02, 3.03395614e-02,\n",
       "       1.97244182e-01, 5.47966957e-01, 6.18808866e-01, 3.47156018e-01,\n",
       "       4.43789840e-01, 9.53174308e-02, 6.77122056e-01, 9.17562097e-02,\n",
       "       6.31523225e-03, 1.77115738e-01, 7.05524860e-03, 2.02012481e-03,\n",
       "       7.86447525e-01, 6.61295503e-02, 8.90521765e-01, 4.88781959e-01,\n",
       "       5.79276204e-01, 3.20551510e-04, 9.44673957e-04, 7.63181031e-01,\n",
       "       7.84682870e-01, 4.46392596e-01, 7.71058261e-01, 4.28466126e-02,\n",
       "       7.99092293e-01, 6.17364705e-01, 2.95338780e-03, 5.63319027e-01,\n",
       "       6.72078848e-01, 9.58234444e-02, 1.54818773e-01, 6.87673310e-05,\n",
       "       4.80092704e-01, 7.27112353e-01, 4.91801679e-01, 4.78113323e-01,\n",
       "       1.55039234e-02, 3.71301454e-03, 5.99417746e-01, 6.44207537e-01,\n",
       "       3.62284869e-01, 3.19926180e-02, 3.66057456e-02, 1.96753200e-02,\n",
       "       4.66143340e-02, 9.35574248e-02, 2.18902588e-01, 3.74392082e-04,\n",
       "       1.40056342e-01, 3.25842053e-02, 1.22246191e-01, 1.27873616e-03,\n",
       "       1.37739092e-01, 1.33316800e-01, 2.69289222e-03, 1.84000737e-03,\n",
       "       6.11911893e-01, 1.50826365e-01, 5.90312123e-01, 3.26143891e-01,\n",
       "       2.57305317e-02, 1.82297651e-03, 4.37164128e-01, 8.71092618e-01,\n",
       "       4.29072138e-03, 1.09184869e-01, 6.31389022e-01, 6.58131480e-01,\n",
       "       2.78699040e-01, 1.27532799e-03, 2.69525200e-01, 1.50284380e-01,\n",
       "       5.03755510e-01, 1.61669865e-01, 7.26894081e-01, 4.33452427e-02,\n",
       "       2.58663148e-02, 1.43925652e-01, 6.59169614e-01, 6.79633796e-01,\n",
       "       6.51283741e-01, 2.05751159e-03, 3.63325834e-01, 5.39545774e-01,\n",
       "       5.92644606e-03, 3.21979403e-01, 5.25575995e-01, 4.45522606e-01,\n",
       "       9.34884697e-02, 1.38127133e-01, 5.04936976e-03, 8.19624245e-01,\n",
       "       2.30329156e-01, 6.65532053e-01, 6.59156978e-01, 6.85558200e-01,\n",
       "       5.53790152e-01, 4.80807394e-01, 2.44052359e-03, 5.96327662e-01,\n",
       "       3.09747700e-02, 5.51226556e-01, 5.20876683e-02, 3.24614532e-02,\n",
       "       9.45266860e-04, 1.24741539e-01, 3.44209641e-01, 3.70833604e-03,\n",
       "       5.28161466e-01, 2.46664099e-02, 4.32986803e-02, 2.12955056e-03,\n",
       "       3.17418188e-01, 9.07734394e-01, 5.74978888e-01, 8.04473925e-03,\n",
       "       4.89953719e-02, 5.35178185e-01, 2.88375348e-01, 1.44865304e-01,\n",
       "       1.84056222e-01, 2.86593765e-01, 1.38615817e-02, 1.35462686e-01,\n",
       "       1.35162339e-01, 2.45725825e-01, 3.07599409e-03, 1.79245113e-03,\n",
       "       6.18700743e-01, 5.27922630e-01, 3.37680459e-01, 6.42155886e-01,\n",
       "       4.28279072e-01, 5.70038378e-01, 1.54649757e-03, 9.40365419e-02,\n",
       "       8.64264183e-03, 2.38544598e-01], dtype=float32)"
      ]
     },
     "execution_count": 62,
     "metadata": {},
     "output_type": "execute_result"
    }
   ],
   "source": [
    "val_xgb_proba = xgb.predict_proba(X_val)\n",
    "y_val_prob_xgb = val_xgb_proba[:, 1]\n",
    "y_val_prob_xgb"
   ]
  },
  {
   "cell_type": "code",
   "execution_count": 63,
   "id": "bd38ca23",
   "metadata": {},
   "outputs": [
    {
     "name": "stdout",
     "output_type": "stream",
     "text": [
      "Best Threshold for maximum F1 score:  0.439\n",
      "Accuracy: 0.427\n",
      "Precision at Best F1 : 0.04878048780487805\n",
      "Recall at Best F1 : 0.9473684210526315\n",
      "Best F1 Score : 0.09278350515463918\n"
     ]
    },
    {
     "data": {
      "image/png": "[encoded data removed]",
      "text/plain": [
       "<Figure size 720x360 with 2 Axes>"
      ]
     },
     "metadata": {
      "needs_background": "light"
     },
     "output_type": "display_data"
    }
   ],
   "source": [
    "# Best threshold for F1 score and performance on validaton set\n",
    "\n",
    "xgb_bestF1 = bestThreshold(y_val, y_val_prob_xgb)\n",
    "performance(y_val, y_val_prob_rfc, xgb_bestF1)"
   ]
  },
  {
   "cell_type": "code",
   "execution_count": 64,
   "id": "3e485e0f",
   "metadata": {},
   "outputs": [
    {
     "data": {
      "text/plain": [
       "array([0.00295475, 0.00448489, 0.00062596, ..., 0.0042313 , 0.32490686,\n",
       "       0.09692448], dtype=float32)"
      ]
     },
     "execution_count": 64,
     "metadata": {},
     "output_type": "execute_result"
    }
   ],
   "source": [
    "test_xgb_proba = xgb.predict_proba(X_test)\n",
    "y_test_prob_xgb = test_xgb_proba[:, 1]\n",
    "y_test_prob_xgb"
   ]
  },
  {
   "cell_type": "code",
   "execution_count": 65,
   "id": "3c17e194",
   "metadata": {},
   "outputs": [
    {
     "name": "stdout",
     "output_type": "stream",
     "text": [
      "Accuracy: 0.730\n",
      "Precision at Best F1 : 0.13758389261744966\n",
      "Recall at Best F1 : 0.6833333333333333\n",
      "Best F1 Score : 0.22905027932960892\n"
     ]
    },
    {
     "data": {
      "image/png": "[encoded data removed]",
      "text/plain": [
       "<Figure size 720x360 with 2 Axes>"
      ]
     },
     "metadata": {
      "needs_background": "light"
     },
     "output_type": "display_data"
    }
   ],
   "source": [
    "# Test set peformance: Best threshold  F1 \n",
    "\n",
    "performance(y_test, y_test_prob_xgb, xgb_bestF1)\n"
   ]
  },
  {
   "cell_type": "code",
   "execution_count": 66,
   "id": "30c2055b",
   "metadata": {},
   "outputs": [],
   "source": [
    "fpr_lor , tpr_lor, threshold_lor = roc_curve(y_test, y_test_prob_lor)\n",
    "\n",
    "fpr_dtc , tpr_dtc, threshold_dtc = roc_curve(y_test, y_test_prob_dtc)\n",
    "\n",
    "fpr_rfc , tpr_rfc, threshold_rfc = roc_curve(y_test, y_test_prob_rfc)\n",
    "\n",
    "fpr_xgb , tpr_xgb, threshold_xgb = roc_curve(y_test, y_test_prob_xgb)\n",
    "\n",
    "lor_AUC = roc_auc_score(y_test, y_test_prob_lor)\n",
    "dtc_AUC = roc_auc_score(y_test, y_test_prob_dtc)\n",
    "rfc_AUC = roc_auc_score(y_test, y_test_prob_rfc)\n",
    "xgb_AUC = roc_auc_score(y_test, y_test_prob_xgb)"
   ]
  },
  {
   "cell_type": "code",
   "execution_count": 67,
   "id": "a0dbb981",
   "metadata": {},
   "outputs": [
    {
     "name": "stdout",
     "output_type": "stream",
     "text": [
      "AUC for Logistic Regression:  0.8507796257796258\n",
      "AUC for Decision Tree:  0.8311850311850312\n",
      "AUC for Random Forest:  0.8372227997227997\n",
      "AUC for XGBoost:  0.7785343035343035\n"
     ]
    }
   ],
   "source": [
    "print('AUC for Logistic Regression: ' , lor_AUC)\n",
    "print('AUC for Decision Tree: ' , dtc_AUC)\n",
    "print('AUC for Random Forest: ' , rfc_AUC)\n",
    "print('AUC for XGBoost: ' , xgb_AUC)"
   ]
  },
  {
   "cell_type": "code",
   "execution_count": 68,
   "id": "1982c9ff",
   "metadata": {},
   "outputs": [
    {
     "data": {
      "image/png": "[encoded data removed]",
      "text/plain": [
       "<Figure size 432x288 with 1 Axes>"
      ]
     },
     "metadata": {
      "needs_background": "light"
     },
     "output_type": "display_data"
    }
   ],
   "source": [
    "plt.plot([0,1], ls = '--', linewidth=3, color = 'black')\n",
    "plt.plot([0,0],[1,0], c='.5')\n",
    "plt.plot([1,1],c='.5')\n",
    "plt.plot(fpr_lor, tpr_lor, linewidth=3, color = '#33CC33', label= \"Logistic Regression Classifier \")\n",
    "plt.plot(fpr_dtc, tpr_dtc, linewidth=3, color = '#005aff', label= \"Decision Tree Classifier\")\n",
    "plt.plot(fpr_rfc, tpr_rfc, linewidth=3, color = '#ffa500', label= \"Random Forest Classifier\")\n",
    "plt.plot(fpr_xgb, tpr_xgb, linewidth=3, color = '#cc0000', label= \"XGBoost Classifier\")\n",
    "plt.legend()\n",
    "plt.xlabel(\"False Positive Rate\")\n",
    "plt.ylabel(\"True Positive Rate\")\n",
    "plt.title('ROC curve')\n",
    "plt.show()"
   ]
  },
  {
   "cell_type": "markdown",
   "id": "9a493444",
   "metadata": {},
   "source": [
    "## Conclusion <a id=\"6\"></a>\n",
    "<mark>[Return Contents](#0)\n",
    "<hr>"
   ]
  },
  {
   "cell_type": "markdown",
   "id": "7c5aa3c8",
   "metadata": {},
   "source": [
    "* For classification problems that have a severe class imbalance, the default threshold can result in poor performance. As such, a simple spproach to improving the performance of a classifier that predicts probabilities on an imbalanced classification problem is to tune the threshold used to map probabilities to class labels\n",
    "\n",
    "* F1 score (which is harmonic mean of precsion and recall) is a better evaultaion metrics when dealing with imbalanced data as compared to accuracy"
   ]
  },
  {
   "cell_type": "code",
   "execution_count": null,
   "id": "c5d98f6d",
   "metadata": {},
   "outputs": [],
   "source": []
  }
 ],
 "metadata": {
  "kernelspec": {
   "display_name": "Python 3 (ipykernel)",
   "language": "python",
   "name": "python3"
  },
  "language_info": {
   "codemirror_mode": {
    "name": "ipython",
    "version": 3
   },
   "file_extension": ".py",
   "mimetype": "text/x-python",
   "name": "python",
   "nbconvert_exporter": "python",
   "pygments_lexer": "ipython3",
   "version": "3.9.7"
  }
 },
 "nbformat": 4,
 "nbformat_minor": 5
}
